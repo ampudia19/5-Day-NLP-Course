{
 "cells": [
  {
   "cell_type": "markdown",
   "id": "61f644af-9b1b-4061-9a4f-3545de67bcb6",
   "metadata": {},
   "source": [
    "# BGSE Summer School, July 2021 - Text pre-processing\n",
    "\n",
    "This notebook introduces the series of pre-processing steps that we will routinely use during the rest of the week. If you feel like you could do with a Python crash course, you can explore [this](https://www.dropbox.com/s/b4jxmv1pe3tmz3v/Python_Brushup.ipynb?dl=0) jupyter notebook first. \n",
    "\n"
   ]
  },
  {
   "cell_type": "markdown",
   "id": "a80853a3-1330-4927-b578-712b85e6f26f",
   "metadata": {},
   "source": [
    "## Import libraries"
   ]
  },
  {
   "cell_type": "code",
   "execution_count": 8,
   "id": "4ed8d51e-cdf4-4868-9592-1e7290aa4f78",
   "metadata": {},
   "outputs": [],
   "source": [
    "# Basic libraries\n",
    "import pandas as pd\n",
    "pd.set_option('max_colwidth', 200)\n",
    "\n",
    "import numpy as np\n",
    "import os\n",
    "from pathlib import Path\n",
    "from tqdm import tqdm\n",
    "tqdm.pandas()\n",
    "\n",
    "# Libraries for plotting results\n",
    "%matplotlib inline\n",
    "import matplotlib.pyplot as plt\n",
    "import matplotlib.dates as mdates\n",
    "from matplotlib.ticker import FuncFormatter\n",
    "import seaborn as sns\n",
    "from wordcloud import WordCloud"
   ]
  },
  {
   "cell_type": "markdown",
   "id": "88716abc-56e6-4727-8970-2c1349adc918",
   "metadata": {},
   "source": [
    "## Set path"
   ]
  },
  {
   "cell_type": "code",
   "execution_count": 10,
   "id": "ff46d1bd-e8bb-4a14-95de-6b4b6debb6b8",
   "metadata": {},
   "outputs": [],
   "source": [
    "basedir = Path(os.environ['SUMMER_SCHOOL']) / 'Day1'\n",
    "datadir = basedir / 'data'\n",
    "utildir = basedir / 'utils'\n",
    "os.chdir(basedir)"
   ]
  },
  {
   "cell_type": "markdown",
   "id": "cfa8ef1a-9754-4c23-a788-cf07dcb45b23",
   "metadata": {},
   "source": [
    "# Text pre-processing"
   ]
  },
  {
   "cell_type": "markdown",
   "id": "0e619e95-92ff-4868-a606-d744cf46b401",
   "metadata": {},
   "source": [
    "It is easy to underestimate the importance of text pre-processing, dismissing it as a code routine that only shapes our text data in a way that we can feed it to downstream algorithms. However, the reality is that decisions that you make at this stage will greatly condition results that you get as you move down in your code. A priori knowledge on the data and well-defined goals are key in deciding the best route ahead in text pre-processing. For example, decisions about retaining or dropping digits, stemming or lemmatizing, including or excluding of certain stopwords as well as adding context-specific stopwords will all impact the amount of noise we observe in our data and the variation in text that is relevant for our analysis.\n",
    "\n",
    "Motivation aside, let us use an example of text and gradually walk through the pre-processing steps."
   ]
  },
  {
   "cell_type": "code",
   "execution_count": 12,
   "id": "fa53520d-6ced-4acb-87e2-9003e2622d75",
   "metadata": {},
   "outputs": [
    {
     "name": "stdout",
     "output_type": "stream",
     "text": [
      "An unkempt Kansas City disc jockey named Ray has appointed himself an altar boy at the exalted shrine of jazz, and his faith burns like a five-alarm fire. Embodied with respect and ferocity by Frank Boyd in “The Holler Sessions,” which runs through Friday at the Paradise Factory, Ray radiates a hard-core obsessiveness that’s both scary and contagious. You get the feeling that he wears sunglasses inside not to be cool, but because the light he’s seen is so bright. Part of P.S. 122’s Coil Festival 2016, “The Holler Sessions,” performed and written by Mr. Boyd in collaboration with the experimental theater group the TEAM (with Rachel Chavkin and Josh Aaseng as consulting directors), creates a convincing portrait of a monomaniac that, for all its flashiness, never blocks the view of the object of his passion. Yes, Ray, with his hyperkinetic delivery and sweaty sense of urgency, is a watch-me kind of guy. But what he really wants is for us to listen — not to him, but to the discs he spins from a slovenly broadcast room (designed and lighted by Eric Southern), where he subsists on gulps of coffee, whiskey, apples and peanuts. Ray, it seems, discovered jazz only a few years ago, and he’s outraged that he’s spent so much of his life without it. How could schools have taught him about the Nina, the Pinta and the Santa Maria, he asks in astonished anger, instead of the holy trinity of Duke, Bird and Billie. Like many a classic jazz D.J., he’s steeped in the arcana of recording session lore and biographical back stories. But he also retains the frothing enthusiasm of the newborn fanboy, and he tears into convulsive, obscenity-peppered rants that emulate the riffs of his favorite artists. Not that he thinks he could ever be on their level; as Ray points out many times, he is no musician himself. A faint cloud of pathos befogs Ray when he leaves his chair to shimmy to the beats of Coltrane, Davis, Armstrong and the Charleses Parker and Mingus (Matt Hubbs did the excellent sound design), or speaks almost longingly of the lethal self-destructiveness of many of his idols. (Ray has the jerky rhythms, the motor mouth and even the nosebleeds of a cokehead.) But when Ray sits back and lets the music wash over him, there’s dignity in his awe-struck stillness. His raptness makes us want to hear through his ears. And when the theater fades to black, as it does intermittently throughout the show, and we sit in the darkness with the music, sound becomes tactile, and even pop-station babies and longhairs are likely to feel like true believers in the gospel of Ray. This information was last updated on Aug. 27, 2018\n"
     ]
    }
   ],
   "source": [
    "text = 'An unkempt Kansas City disc jockey named Ray has appointed himself an altar boy at the exalted shrine of jazz, and his faith burns like a five-alarm fire. Embodied with respect and ferocity by Frank Boyd in “The Holler Sessions,” which runs through Friday at the Paradise Factory, Ray radiates a hard-core obsessiveness that’s both scary and contagious. You get the feeling that he wears sunglasses inside not to be cool, but because the light he’s seen is so bright. Part of P.S. 122’s Coil Festival 2016, “The Holler Sessions,” performed and written by Mr. Boyd in collaboration with the experimental theater group the TEAM (with Rachel Chavkin and Josh Aaseng as consulting directors), creates a convincing portrait of a monomaniac that, for all its flashiness, never blocks the view of the object of his passion. Yes, Ray, with his hyperkinetic delivery and sweaty sense of urgency, is a watch-me kind of guy. But what he really wants is for us to listen — not to him, but to the discs he spins from a slovenly broadcast room (designed and lighted by Eric Southern), where he subsists on gulps of coffee, whiskey, apples and peanuts. Ray, it seems, discovered jazz only a few years ago, and he’s outraged that he’s spent so much of his life without it. How could schools have taught him about the Nina, the Pinta and the Santa Maria, he asks in astonished anger, instead of the holy trinity of Duke, Bird and Billie. Like many a classic jazz D.J., he’s steeped in the arcana of recording session lore and biographical back stories. But he also retains the frothing enthusiasm of the newborn fanboy, and he tears into convulsive, obscenity-peppered rants that emulate the riffs of his favorite artists. Not that he thinks he could ever be on their level; as Ray points out many times, he is no musician himself. A faint cloud of pathos befogs Ray when he leaves his chair to shimmy to the beats of Coltrane, Davis, Armstrong and the Charleses Parker and Mingus (Matt Hubbs did the excellent sound design), or speaks almost longingly of the lethal self-destructiveness of many of his idols. (Ray has the jerky rhythms, the motor mouth and even the nosebleeds of a cokehead.) But when Ray sits back and lets the music wash over him, there’s dignity in his awe-struck stillness. His raptness makes us want to hear through his ears. And when the theater fades to black, as it does intermittently throughout the show, and we sit in the darkness with the music, sound becomes tactile, and even pop-station babies and longhairs are likely to feel like true believers in the gospel of Ray. This information was last updated on Aug. 27, 2018'\n",
    "print(text)"
   ]
  },
  {
   "cell_type": "markdown",
   "id": "fd3d1f4d-204a-4e1a-b843-a63030f68921",
   "metadata": {},
   "source": [
    "#### Tokenize"
   ]
  },
  {
   "cell_type": "code",
   "execution_count": 15,
   "id": "2a289c8f-e461-43d1-85d0-672b2544e8b1",
   "metadata": {},
   "outputs": [
    {
     "name": "stdout",
     "output_type": "stream",
     "text": [
      "['An', 'unkempt', 'Kansas', 'City', 'disc', 'jockey', 'named', 'Ray', 'has', 'appointed', 'himself', 'an', 'altar', 'boy', 'at', 'the', 'exalted', 'shrine', 'of', 'jazz,', 'and', 'his', 'faith', 'burns', 'like', 'a', 'five-alarm', 'fire.', 'Embodied', 'with', 'respect', 'and', 'ferocity', 'by', 'Frank', 'Boyd', 'in', '“The', 'Holler', 'Sessions,”', 'which', 'runs', 'through', 'Friday', 'at', 'the', 'Paradise', 'Factory,', 'Ray', 'radiates', 'a', 'hard-core', 'obsessiveness', 'that’s', 'both', 'scary', 'and', 'contagious.', 'You', 'get', 'the', 'feeling', 'that', 'he', 'wears', 'sunglasses', 'inside', 'not', 'to', 'be', 'cool,', 'but', 'because', 'the', 'light', 'he’s', 'seen', 'is', 'so', 'bright.', 'Part', 'of', 'P.S.', '122’s', 'Coil', 'Festival', '2016,', '“The', 'Holler', 'Sessions,”', 'performed', 'and', 'written', 'by', 'Mr.', 'Boyd', 'in', 'collaboration', 'with', 'the', 'experimental', 'theater', 'group', 'the', 'TEAM', '(with', 'Rachel', 'Chavkin', 'and', 'Josh', 'Aaseng', 'as', 'consulting', 'directors),', 'creates', 'a', 'convincing', 'portrait', 'of', 'a', 'monomaniac', 'that,', 'for', 'all', 'its', 'flashiness,', 'never', 'blocks', 'the', 'view', 'of', 'the', 'object', 'of', 'his', 'passion.', 'Yes,', 'Ray,', 'with', 'his', 'hyperkinetic', 'delivery', 'and', 'sweaty', 'sense', 'of', 'urgency,', 'is', 'a', 'watch-me', 'kind', 'of', 'guy.', 'But', 'what', 'he', 'really', 'wants', 'is', 'for', 'us', 'to', 'listen', '—', 'not', 'to', 'him,', 'but', 'to', 'the', 'discs', 'he', 'spins', 'from', 'a', 'slovenly', 'broadcast', 'room', '(designed', 'and', 'lighted', 'by', 'Eric', 'Southern),', 'where', 'he', 'subsists', 'on', 'gulps', 'of', 'coffee,', 'whiskey,', 'apples', 'and', 'peanuts.', 'Ray,', 'it', 'seems,', 'discovered', 'jazz', 'only', 'a', 'few', 'years', 'ago,', 'and', 'he’s', 'outraged', 'that', 'he’s', 'spent', 'so', 'much', 'of', 'his', 'life', 'without', 'it.', 'How', 'could', 'schools', 'have', 'taught', 'him', 'about', 'the', 'Nina,', 'the', 'Pinta', 'and', 'the', 'Santa', 'Maria,', 'he', 'asks', 'in', 'astonished', 'anger,', 'instead', 'of', 'the', 'holy', 'trinity', 'of', 'Duke,', 'Bird', 'and', 'Billie.', 'Like', 'many', 'a', 'classic', 'jazz', 'D.J.,', 'he’s', 'steeped', 'in', 'the', 'arcana', 'of', 'recording', 'session', 'lore', 'and', 'biographical', 'back', 'stories.', 'But', 'he', 'also', 'retains', 'the', 'frothing', 'enthusiasm', 'of', 'the', 'newborn', 'fanboy,', 'and', 'he', 'tears', 'into', 'convulsive,', 'obscenity-peppered', 'rants', 'that', 'emulate', 'the', 'riffs', 'of', 'his', 'favorite', 'artists.', 'Not', 'that', 'he', 'thinks', 'he', 'could', 'ever', 'be', 'on', 'their', 'level;', 'as', 'Ray', 'points', 'out', 'many', 'times,', 'he', 'is', 'no', 'musician', 'himself.', 'A', 'faint', 'cloud', 'of', 'pathos', 'befogs', 'Ray', 'when', 'he', 'leaves', 'his', 'chair', 'to', 'shimmy', 'to', 'the', 'beats', 'of', 'Coltrane,', 'Davis,', 'Armstrong', 'and', 'the', 'Charleses', 'Parker', 'and', 'Mingus', '(Matt', 'Hubbs', 'did', 'the', 'excellent', 'sound', 'design),', 'or', 'speaks', 'almost', 'longingly', 'of', 'the', 'lethal', 'self-destructiveness', 'of', 'many', 'of', 'his', 'idols.', '(Ray', 'has', 'the', 'jerky', 'rhythms,', 'the', 'motor', 'mouth', 'and', 'even', 'the', 'nosebleeds', 'of', 'a', 'cokehead.)', 'But', 'when', 'Ray', 'sits', 'back', 'and', 'lets', 'the', 'music', 'wash', 'over', 'him,', 'there’s', 'dignity', 'in', 'his', 'awe-struck', 'stillness.', 'His', 'raptness', 'makes', 'us', 'want', 'to', 'hear', 'through', 'his', 'ears.', 'And', 'when', 'the', 'theater', 'fades', 'to', 'black,', 'as', 'it', 'does', 'intermittently', 'throughout', 'the', 'show,', 'and', 'we', 'sit', 'in', 'the', 'darkness', 'with', 'the', 'music,', 'sound', 'becomes', 'tactile,', 'and', 'even', 'pop-station', 'babies', 'and', 'longhairs', 'are', 'likely', 'to', 'feel', 'like', 'true', 'believers', 'in', 'the', 'gospel', 'of', 'Ray.', 'This', 'information', 'was', 'last', 'updated', 'on', 'Aug.', '27,', '2018']\n"
     ]
    }
   ],
   "source": [
    "tokens = text.split()\n",
    "print(tokens)"
   ]
  },
  {
   "cell_type": "markdown",
   "id": "11f351d4-c0ab-4ab4-b354-51fc86ce4593",
   "metadata": {},
   "source": [
    "<br>\n",
    "Tokenizing represents the most basic step in creating documents from raw data. Note however that not all tokens are equally relevant. As an example, we may not be interested in including '—' since the additional information it provides is unlikely to justify increasing the dimension of our document-term matrix. Similarly, certain words with signs, symbols and punctuation will not be considered identical to the same word without signs or symbols, and upper-case words will be distinct from lower-case words. In order to control for these, we will remove non-alphabetic elements, punctuation and convert our data to lower case."
   ]
  },
  {
   "cell_type": "code",
   "execution_count": 16,
   "id": "e42cc608-fe38-492a-a41a-239202ee8c74",
   "metadata": {},
   "outputs": [
    {
     "name": "stdout",
     "output_type": "stream",
     "text": [
      "\u001b[34mA\u001b[0mn\u001b[31m \u001b[0munkempt\u001b[31m \u001b[0m\u001b[34mK\u001b[0mansas\u001b[31m \u001b[0m\u001b[34mC\u001b[0mity\u001b[31m \u001b[0mdisc\u001b[31m \u001b[0mjockey\u001b[31m \u001b[0mnamed\u001b[31m \u001b[0m\u001b[34mR\u001b[0may\u001b[31m \u001b[0mhas\u001b[31m \u001b[0mappointed\u001b[31m \u001b[0mhimself\u001b[31m \u001b[0man\u001b[31m \u001b[0maltar\u001b[31m \u001b[0mboy\u001b[31m \u001b[0mat\u001b[31m \u001b[0mthe\u001b[31m \u001b[0mexalted\u001b[31m \u001b[0mshrine\u001b[31m \u001b[0mof\u001b[31m \u001b[0mjazz\u001b[31m,\u001b[0m\u001b[31m \u001b[0mand\u001b[31m \u001b[0mhis\u001b[31m \u001b[0mfaith\u001b[31m \u001b[0mburns\u001b[31m \u001b[0mlike\u001b[31m \u001b[0ma\u001b[31m \u001b[0mfive\u001b[31m-\u001b[0malarm\u001b[31m \u001b[0mfire\u001b[31m.\u001b[0m\u001b[31m \u001b[0m\u001b[34mE\u001b[0mmbodied\u001b[31m \u001b[0mwith\u001b[31m \u001b[0mrespect\u001b[31m \u001b[0mand\u001b[31m \u001b[0mferocity\u001b[31m \u001b[0mby\u001b[31m \u001b[0m\u001b[34mF\u001b[0mrank\u001b[31m \u001b[0m\u001b[34mB\u001b[0moyd\u001b[31m \u001b[0min\u001b[31m \u001b[0m\u001b[31m“\u001b[0m\u001b[34mT\u001b[0mhe\u001b[31m \u001b[0m\u001b[34mH\u001b[0moller\u001b[31m \u001b[0m\u001b[34mS\u001b[0messions\u001b[31m,\u001b[0m\u001b[31m”\u001b[0m\u001b[31m \u001b[0mwhich\u001b[31m \u001b[0mruns\u001b[31m \u001b[0mthrough\u001b[31m \u001b[0m\u001b[34mF\u001b[0mriday\u001b[31m \u001b[0mat\u001b[31m \u001b[0mthe\u001b[31m \u001b[0m\u001b[34mP\u001b[0maradise\u001b[31m \u001b[0m\u001b[34mF\u001b[0mactory\u001b[31m,\u001b[0m\u001b[31m \u001b[0m\u001b[34mR\u001b[0may\u001b[31m \u001b[0mradiates\u001b[31m \u001b[0ma\u001b[31m \u001b[0mhard\u001b[31m-\u001b[0mcore\u001b[31m \u001b[0mobsessiveness\u001b[31m \u001b[0mthat\u001b[31m’\u001b[0ms\u001b[31m \u001b[0mboth\u001b[31m \u001b[0mscary\u001b[31m \u001b[0mand\u001b[31m \u001b[0mcontagious\u001b[31m.\u001b[0m\u001b[31m \u001b[0m\u001b[34mY\u001b[0mou\u001b[31m \u001b[0mget\u001b[31m \u001b[0mthe\u001b[31m \u001b[0mfeeling\u001b[31m \u001b[0mthat\u001b[31m \u001b[0mhe\u001b[31m \u001b[0mwears\u001b[31m \u001b[0msunglasses\u001b[31m \u001b[0minside\u001b[31m \u001b[0mnot\u001b[31m \u001b[0mto\u001b[31m \u001b[0mbe\u001b[31m \u001b[0mcool\u001b[31m,\u001b[0m\u001b[31m \u001b[0mbut\u001b[31m \u001b[0mbecause\u001b[31m \u001b[0mthe\u001b[31m \u001b[0mlight\u001b[31m \u001b[0mhe\u001b[31m’\u001b[0ms\u001b[31m \u001b[0mseen\u001b[31m \u001b[0mis\u001b[31m \u001b[0mso\u001b[31m \u001b[0mbright\u001b[31m.\u001b[0m\u001b[31m \u001b[0m\u001b[34mP\u001b[0mart\u001b[31m \u001b[0mof\u001b[31m \u001b[0m\u001b[34mP\u001b[0m\u001b[31m.\u001b[0m\u001b[34mS\u001b[0m\u001b[31m.\u001b[0m\u001b[31m \u001b[0m\u001b[31m1\u001b[0m\u001b[31m2\u001b[0m\u001b[31m2\u001b[0m\u001b[31m’\u001b[0ms\u001b[31m \u001b[0m\u001b[34mC\u001b[0moil\u001b[31m \u001b[0m\u001b[34mF\u001b[0mestival\u001b[31m \u001b[0m\u001b[31m2\u001b[0m\u001b[31m0\u001b[0m\u001b[31m1\u001b[0m\u001b[31m6\u001b[0m\u001b[31m,\u001b[0m\u001b[31m \u001b[0m\u001b[31m“\u001b[0m\u001b[34mT\u001b[0mhe\u001b[31m \u001b[0m\u001b[34mH\u001b[0moller\u001b[31m \u001b[0m\u001b[34mS\u001b[0messions\u001b[31m,\u001b[0m\u001b[31m”\u001b[0m\u001b[31m \u001b[0mperformed\u001b[31m \u001b[0mand\u001b[31m \u001b[0mwritten\u001b[31m \u001b[0mby\u001b[31m \u001b[0m\u001b[34mM\u001b[0mr\u001b[31m.\u001b[0m\u001b[31m \u001b[0m\u001b[34mB\u001b[0moyd\u001b[31m \u001b[0min\u001b[31m \u001b[0mcollaboration\u001b[31m \u001b[0mwith\u001b[31m \u001b[0mthe\u001b[31m \u001b[0mexperimental\u001b[31m \u001b[0mtheater\u001b[31m \u001b[0mgroup\u001b[31m \u001b[0mthe\u001b[31m \u001b[0m\u001b[34mT\u001b[0m\u001b[34mE\u001b[0m\u001b[34mA\u001b[0m\u001b[34mM\u001b[0m\u001b[31m \u001b[0m\u001b[31m(\u001b[0mwith\u001b[31m \u001b[0m\u001b[34mR\u001b[0machel\u001b[31m \u001b[0m\u001b[34mC\u001b[0mhavkin\u001b[31m \u001b[0mand\u001b[31m \u001b[0m\u001b[34mJ\u001b[0mosh\u001b[31m \u001b[0m\u001b[34mA\u001b[0maseng\u001b[31m \u001b[0mas\u001b[31m \u001b[0mconsulting\u001b[31m \u001b[0mdirectors\u001b[31m)\u001b[0m\u001b[31m,\u001b[0m\u001b[31m \u001b[0mcreates\u001b[31m \u001b[0ma\u001b[31m \u001b[0mconvincing\u001b[31m \u001b[0mportrait\u001b[31m \u001b[0mof\u001b[31m \u001b[0ma\u001b[31m \u001b[0mmonomaniac\u001b[31m \u001b[0mthat\u001b[31m,\u001b[0m\u001b[31m \u001b[0mfor\u001b[31m \u001b[0mall\u001b[31m \u001b[0mits\u001b[31m \u001b[0mflashiness\u001b[31m,\u001b[0m\u001b[31m \u001b[0mnever\u001b[31m \u001b[0mblocks\u001b[31m \u001b[0mthe\u001b[31m \u001b[0mview\u001b[31m \u001b[0mof\u001b[31m \u001b[0mthe\u001b[31m \u001b[0mobject\u001b[31m \u001b[0mof\u001b[31m \u001b[0mhis\u001b[31m \u001b[0mpassion\u001b[31m.\u001b[0m\u001b[31m \u001b[0m\u001b[34mY\u001b[0mes\u001b[31m,\u001b[0m\u001b[31m \u001b[0m\u001b[34mR\u001b[0may\u001b[31m,\u001b[0m\u001b[31m \u001b[0mwith\u001b[31m \u001b[0mhis\u001b[31m \u001b[0mhyperkinetic\u001b[31m \u001b[0mdelivery\u001b[31m \u001b[0mand\u001b[31m \u001b[0msweaty\u001b[31m \u001b[0msense\u001b[31m \u001b[0mof\u001b[31m \u001b[0murgency\u001b[31m,\u001b[0m\u001b[31m \u001b[0mis\u001b[31m \u001b[0ma\u001b[31m \u001b[0mwatch\u001b[31m-\u001b[0mme\u001b[31m \u001b[0mkind\u001b[31m \u001b[0mof\u001b[31m \u001b[0mguy\u001b[31m.\u001b[0m\u001b[31m \u001b[0m\u001b[34mB\u001b[0mut\u001b[31m \u001b[0mwhat\u001b[31m \u001b[0mhe\u001b[31m \u001b[0mreally\u001b[31m \u001b[0mwants\u001b[31m \u001b[0mis\u001b[31m \u001b[0mfor\u001b[31m \u001b[0mus\u001b[31m \u001b[0mto\u001b[31m \u001b[0mlisten\u001b[31m \u001b[0m\u001b[31m—\u001b[0m\u001b[31m \u001b[0mnot\u001b[31m \u001b[0mto\u001b[31m \u001b[0mhim\u001b[31m,\u001b[0m\u001b[31m \u001b[0mbut\u001b[31m \u001b[0mto\u001b[31m \u001b[0mthe\u001b[31m \u001b[0mdiscs\u001b[31m \u001b[0mhe\u001b[31m \u001b[0mspins\u001b[31m \u001b[0mfrom\u001b[31m \u001b[0ma\u001b[31m \u001b[0mslovenly\u001b[31m \u001b[0mbroadcast\u001b[31m \u001b[0mroom\u001b[31m \u001b[0m\u001b[31m(\u001b[0mdesigned\u001b[31m \u001b[0mand\u001b[31m \u001b[0mlighted\u001b[31m \u001b[0mby\u001b[31m \u001b[0m\u001b[34mE\u001b[0mric\u001b[31m \u001b[0m\u001b[34mS\u001b[0mouthern\u001b[31m)\u001b[0m\u001b[31m,\u001b[0m\u001b[31m \u001b[0mwhere\u001b[31m \u001b[0mhe\u001b[31m \u001b[0msubsists\u001b[31m \u001b[0mon\u001b[31m \u001b[0mgulps\u001b[31m \u001b[0mof\u001b[31m \u001b[0mcoffee\u001b[31m,\u001b[0m\u001b[31m \u001b[0mwhiskey\u001b[31m,\u001b[0m\u001b[31m \u001b[0mapples\u001b[31m \u001b[0mand\u001b[31m \u001b[0mpeanuts\u001b[31m.\u001b[0m\u001b[31m \u001b[0m\u001b[34mR\u001b[0may\u001b[31m,\u001b[0m\u001b[31m \u001b[0mit\u001b[31m \u001b[0mseems\u001b[31m,\u001b[0m\u001b[31m \u001b[0mdiscovered\u001b[31m \u001b[0mjazz\u001b[31m \u001b[0monly\u001b[31m \u001b[0ma\u001b[31m \u001b[0mfew\u001b[31m \u001b[0myears\u001b[31m \u001b[0mago\u001b[31m,\u001b[0m\u001b[31m \u001b[0mand\u001b[31m \u001b[0mhe\u001b[31m’\u001b[0ms\u001b[31m \u001b[0moutraged\u001b[31m \u001b[0mthat\u001b[31m \u001b[0mhe\u001b[31m’\u001b[0ms\u001b[31m \u001b[0mspent\u001b[31m \u001b[0mso\u001b[31m \u001b[0mmuch\u001b[31m \u001b[0mof\u001b[31m \u001b[0mhis\u001b[31m \u001b[0mlife\u001b[31m \u001b[0mwithout\u001b[31m \u001b[0mit\u001b[31m.\u001b[0m\u001b[31m \u001b[0m\u001b[34mH\u001b[0mow\u001b[31m \u001b[0mcould\u001b[31m \u001b[0mschools\u001b[31m \u001b[0mhave\u001b[31m \u001b[0mtaught\u001b[31m \u001b[0mhim\u001b[31m \u001b[0mabout\u001b[31m \u001b[0mthe\u001b[31m \u001b[0m\u001b[34mN\u001b[0mina\u001b[31m,\u001b[0m\u001b[31m \u001b[0mthe\u001b[31m \u001b[0m\u001b[34mP\u001b[0minta\u001b[31m \u001b[0mand\u001b[31m \u001b[0mthe\u001b[31m \u001b[0m\u001b[34mS\u001b[0manta\u001b[31m \u001b[0m\u001b[34mM\u001b[0maria\u001b[31m,\u001b[0m\u001b[31m \u001b[0mhe\u001b[31m \u001b[0masks\u001b[31m \u001b[0min\u001b[31m \u001b[0mastonished\u001b[31m \u001b[0manger\u001b[31m,\u001b[0m\u001b[31m \u001b[0minstead\u001b[31m \u001b[0mof\u001b[31m \u001b[0mthe\u001b[31m \u001b[0mholy\u001b[31m \u001b[0mtrinity\u001b[31m \u001b[0mof\u001b[31m \u001b[0m\u001b[34mD\u001b[0muke\u001b[31m,\u001b[0m\u001b[31m \u001b[0m\u001b[34mB\u001b[0mird\u001b[31m \u001b[0mand\u001b[31m \u001b[0m\u001b[34mB\u001b[0millie\u001b[31m.\u001b[0m\u001b[31m \u001b[0m\u001b[34mL\u001b[0mike\u001b[31m \u001b[0mmany\u001b[31m \u001b[0ma\u001b[31m \u001b[0mclassic\u001b[31m \u001b[0mjazz\u001b[31m \u001b[0m\u001b[34mD\u001b[0m\u001b[31m.\u001b[0m\u001b[34mJ\u001b[0m\u001b[31m.\u001b[0m\u001b[31m,\u001b[0m\u001b[31m \u001b[0mhe\u001b[31m’\u001b[0ms\u001b[31m \u001b[0msteeped\u001b[31m \u001b[0min\u001b[31m \u001b[0mthe\u001b[31m \u001b[0marcana\u001b[31m \u001b[0mof\u001b[31m \u001b[0mrecording\u001b[31m \u001b[0msession\u001b[31m \u001b[0mlore\u001b[31m \u001b[0mand\u001b[31m \u001b[0mbiographical\u001b[31m \u001b[0mback\u001b[31m \u001b[0mstories\u001b[31m.\u001b[0m\u001b[31m \u001b[0m\u001b[34mB\u001b[0mut\u001b[31m \u001b[0mhe\u001b[31m \u001b[0malso\u001b[31m \u001b[0mretains\u001b[31m \u001b[0mthe\u001b[31m \u001b[0mfrothing\u001b[31m \u001b[0menthusiasm\u001b[31m \u001b[0mof\u001b[31m \u001b[0mthe\u001b[31m \u001b[0mnewborn\u001b[31m \u001b[0mfanboy\u001b[31m,\u001b[0m\u001b[31m \u001b[0mand\u001b[31m \u001b[0mhe\u001b[31m \u001b[0mtears\u001b[31m \u001b[0minto\u001b[31m \u001b[0mconvulsive\u001b[31m,\u001b[0m\u001b[31m \u001b[0mobscenity\u001b[31m-\u001b[0mpeppered\u001b[31m \u001b[0mrants\u001b[31m \u001b[0mthat\u001b[31m \u001b[0memulate\u001b[31m \u001b[0mthe\u001b[31m \u001b[0mriffs\u001b[31m \u001b[0mof\u001b[31m \u001b[0mhis\u001b[31m \u001b[0mfavorite\u001b[31m \u001b[0martists\u001b[31m.\u001b[0m\u001b[31m \u001b[0m\u001b[34mN\u001b[0mot\u001b[31m \u001b[0mthat\u001b[31m \u001b[0mhe\u001b[31m \u001b[0mthinks\u001b[31m \u001b[0mhe\u001b[31m \u001b[0mcould\u001b[31m \u001b[0mever\u001b[31m \u001b[0mbe\u001b[31m \u001b[0mon\u001b[31m \u001b[0mtheir\u001b[31m \u001b[0mlevel\u001b[31m;\u001b[0m\u001b[31m \u001b[0mas\u001b[31m \u001b[0m\u001b[34mR\u001b[0may\u001b[31m \u001b[0mpoints\u001b[31m \u001b[0mout\u001b[31m \u001b[0mmany\u001b[31m \u001b[0mtimes\u001b[31m,\u001b[0m\u001b[31m \u001b[0mhe\u001b[31m \u001b[0mis\u001b[31m \u001b[0mno\u001b[31m \u001b[0mmusician\u001b[31m \u001b[0mhimself\u001b[31m.\u001b[0m\u001b[31m \u001b[0m\u001b[34mA\u001b[0m\u001b[31m \u001b[0mfaint\u001b[31m \u001b[0mcloud\u001b[31m \u001b[0mof\u001b[31m \u001b[0mpathos\u001b[31m \u001b[0mbefogs\u001b[31m \u001b[0m\u001b[34mR\u001b[0may\u001b[31m \u001b[0mwhen\u001b[31m \u001b[0mhe\u001b[31m \u001b[0mleaves\u001b[31m \u001b[0mhis\u001b[31m \u001b[0mchair\u001b[31m \u001b[0mto\u001b[31m \u001b[0mshimmy\u001b[31m \u001b[0mto\u001b[31m \u001b[0mthe\u001b[31m \u001b[0mbeats\u001b[31m \u001b[0mof\u001b[31m \u001b[0m\u001b[34mC\u001b[0moltrane\u001b[31m,\u001b[0m\u001b[31m \u001b[0m\u001b[34mD\u001b[0mavis\u001b[31m,\u001b[0m\u001b[31m \u001b[0m\u001b[34mA\u001b[0mrmstrong\u001b[31m \u001b[0mand\u001b[31m \u001b[0mthe\u001b[31m \u001b[0m\u001b[34mC\u001b[0mharleses\u001b[31m \u001b[0m\u001b[34mP\u001b[0marker\u001b[31m \u001b[0mand\u001b[31m \u001b[0m\u001b[34mM\u001b[0mingus\u001b[31m \u001b[0m\u001b[31m(\u001b[0m\u001b[34mM\u001b[0matt\u001b[31m \u001b[0m\u001b[34mH\u001b[0mubbs\u001b[31m \u001b[0mdid\u001b[31m \u001b[0mthe\u001b[31m \u001b[0mexcellent\u001b[31m \u001b[0msound\u001b[31m \u001b[0mdesign\u001b[31m)\u001b[0m\u001b[31m,\u001b[0m\u001b[31m \u001b[0mor\u001b[31m \u001b[0mspeaks\u001b[31m \u001b[0malmost\u001b[31m \u001b[0mlongingly\u001b[31m \u001b[0mof\u001b[31m \u001b[0mthe\u001b[31m \u001b[0mlethal\u001b[31m \u001b[0mself\u001b[31m-\u001b[0mdestructiveness\u001b[31m \u001b[0mof\u001b[31m \u001b[0mmany\u001b[31m \u001b[0mof\u001b[31m \u001b[0mhis\u001b[31m \u001b[0midols\u001b[31m.\u001b[0m\u001b[31m \u001b[0m\u001b[31m(\u001b[0m\u001b[34mR\u001b[0may\u001b[31m \u001b[0mhas\u001b[31m \u001b[0mthe\u001b[31m \u001b[0mjerky\u001b[31m \u001b[0mrhythms\u001b[31m,\u001b[0m\u001b[31m \u001b[0mthe\u001b[31m \u001b[0mmotor\u001b[31m \u001b[0mmouth\u001b[31m \u001b[0mand\u001b[31m \u001b[0meven\u001b[31m \u001b[0mthe\u001b[31m \u001b[0mnosebleeds\u001b[31m \u001b[0mof\u001b[31m \u001b[0ma\u001b[31m \u001b[0mcokehead\u001b[31m.\u001b[0m\u001b[31m)\u001b[0m\u001b[31m \u001b[0m\u001b[34mB\u001b[0mut\u001b[31m \u001b[0mwhen\u001b[31m \u001b[0m\u001b[34mR\u001b[0may\u001b[31m \u001b[0msits\u001b[31m \u001b[0mback\u001b[31m \u001b[0mand\u001b[31m \u001b[0mlets\u001b[31m \u001b[0mthe\u001b[31m \u001b[0mmusic\u001b[31m \u001b[0mwash\u001b[31m \u001b[0mover\u001b[31m \u001b[0mhim\u001b[31m,\u001b[0m\u001b[31m \u001b[0mthere\u001b[31m’\u001b[0ms\u001b[31m \u001b[0mdignity\u001b[31m \u001b[0min\u001b[31m \u001b[0mhis\u001b[31m \u001b[0mawe\u001b[31m-\u001b[0mstruck\u001b[31m \u001b[0mstillness\u001b[31m.\u001b[0m\u001b[31m \u001b[0m\u001b[34mH\u001b[0mis\u001b[31m \u001b[0mraptness\u001b[31m \u001b[0mmakes\u001b[31m \u001b[0mus\u001b[31m \u001b[0mwant\u001b[31m \u001b[0mto\u001b[31m \u001b[0mhear\u001b[31m \u001b[0mthrough\u001b[31m \u001b[0mhis\u001b[31m \u001b[0mears\u001b[31m.\u001b[0m\u001b[31m \u001b[0m\u001b[34mA\u001b[0mnd\u001b[31m \u001b[0mwhen\u001b[31m \u001b[0mthe\u001b[31m \u001b[0mtheater\u001b[31m \u001b[0mfades\u001b[31m \u001b[0mto\u001b[31m \u001b[0mblack\u001b[31m,\u001b[0m\u001b[31m \u001b[0mas\u001b[31m \u001b[0mit\u001b[31m \u001b[0mdoes\u001b[31m \u001b[0mintermittently\u001b[31m \u001b[0mthroughout\u001b[31m \u001b[0mthe\u001b[31m \u001b[0mshow\u001b[31m,\u001b[0m\u001b[31m \u001b[0mand\u001b[31m \u001b[0mwe\u001b[31m \u001b[0msit\u001b[31m \u001b[0min\u001b[31m \u001b[0mthe\u001b[31m \u001b[0mdarkness\u001b[31m \u001b[0mwith\u001b[31m \u001b[0mthe\u001b[31m \u001b[0mmusic\u001b[31m,\u001b[0m\u001b[31m \u001b[0msound\u001b[31m \u001b[0mbecomes\u001b[31m \u001b[0mtactile\u001b[31m,\u001b[0m\u001b[31m \u001b[0mand\u001b[31m \u001b[0meven\u001b[31m \u001b[0mpop\u001b[31m-\u001b[0mstation\u001b[31m \u001b[0mbabies\u001b[31m \u001b[0mand\u001b[31m \u001b[0mlonghairs\u001b[31m \u001b[0mare\u001b[31m \u001b[0mlikely\u001b[31m \u001b[0mto\u001b[31m \u001b[0mfeel\u001b[31m \u001b[0mlike\u001b[31m \u001b[0mtrue\u001b[31m \u001b[0mbelievers\u001b[31m \u001b[0min\u001b[31m \u001b[0mthe\u001b[31m \u001b[0mgospel\u001b[31m \u001b[0mof\u001b[31m \u001b[0m\u001b[34mR\u001b[0may\u001b[31m.\u001b[0m\u001b[31m \u001b[0m\u001b[34mT\u001b[0mhis\u001b[31m \u001b[0minformation\u001b[31m \u001b[0mwas\u001b[31m \u001b[0mlast\u001b[31m \u001b[0mupdated\u001b[31m \u001b[0mon\u001b[31m \u001b[0m\u001b[34mA\u001b[0mug\u001b[31m.\u001b[0m\u001b[31m \u001b[0m\u001b[31m2\u001b[0m\u001b[31m7\u001b[0m\u001b[31m,\u001b[0m\u001b[31m \u001b[0m\u001b[31m2\u001b[0m\u001b[31m0\u001b[0m\u001b[31m1\u001b[0m\u001b[31m8\u001b[0m\u001b[31m \u001b[0m\n"
     ]
    }
   ],
   "source": [
    "import sys\n",
    "from termcolor import colored, cprint\n",
    "\n",
    "split_text = [i for j in text.split() for i in (j, ' ')]\n",
    "col_text = [\n",
    "    colored(x, 'blue') if x.isupper()\n",
    "    else colored(x, 'red') if not x.isalpha()\n",
    "    else x \n",
    "    for i in split_text for x in i\n",
    "]\n",
    "\n",
    "print(''.join(col_text))"
   ]
  },
  {
   "cell_type": "markdown",
   "id": "df3bd696-e66e-4b95-b08e-e7344dfc0dae",
   "metadata": {},
   "source": [
    "#### Remove punctuation"
   ]
  },
  {
   "cell_type": "code",
   "execution_count": 17,
   "id": "d5b95e17-52f5-4f4a-8192-2d41e15ecb5a",
   "metadata": {},
   "outputs": [
    {
     "name": "stdout",
     "output_type": "stream",
     "text": [
      "an unkempt kansas city disc jockey named ray has appointed himself an altar boy at the exalted shrine of jazz, and his faith burns like a five-alarm fire. embodied with respect and ferocity by frank boyd in “the holler sessions,” which runs through friday at the paradise factory, ray radiates a hard-core obsessiveness that’s both scary and contagious. you get the feeling that he wears sunglasses inside not to be cool, but because the light he’s seen is so bright. part of p.s. 122’s coil festival 2016, “the holler sessions,” performed and written by mr. boyd in collaboration with the experimental theater group the team (with rachel chavkin and josh aaseng as consulting directors), creates a convincing portrait of a monomaniac that, for all its flashiness, never blocks the view of the object of his passion. yes, ray, with his hyperkinetic delivery and sweaty sense of urgency, is a watch-me kind of guy. but what he really wants is for us to listen — not to him, but to the discs he spins from a slovenly broadcast room (designed and lighted by eric southern), where he subsists on gulps of coffee, whiskey, apples and peanuts. ray, it seems, discovered jazz only a few years ago, and he’s outraged that he’s spent so much of his life without it. how could schools have taught him about the nina, the pinta and the santa maria, he asks in astonished anger, instead of the holy trinity of duke, bird and billie. like many a classic jazz d.j., he’s steeped in the arcana of recording session lore and biographical back stories. but he also retains the frothing enthusiasm of the newborn fanboy, and he tears into convulsive, obscenity-peppered rants that emulate the riffs of his favorite artists. not that he thinks he could ever be on their level; as ray points out many times, he is no musician himself. a faint cloud of pathos befogs ray when he leaves his chair to shimmy to the beats of coltrane, davis, armstrong and the charleses parker and mingus (matt hubbs did the excellent sound design), or speaks almost longingly of the lethal self-destructiveness of many of his idols. (ray has the jerky rhythms, the motor mouth and even the nosebleeds of a cokehead.) but when ray sits back and lets the music wash over him, there’s dignity in his awe-struck stillness. his raptness makes us want to hear through his ears. and when the theater fades to black, as it does intermittently throughout the show, and we sit in the darkness with the music, sound becomes tactile, and even pop-station babies and longhairs are likely to feel like true believers in the gospel of ray. this information was last updated on aug. 27, 2018\n"
     ]
    }
   ],
   "source": [
    "text = text.lower()\n",
    "print(text)"
   ]
  },
  {
   "cell_type": "code",
   "execution_count": 18,
   "id": "fa613f0b-5397-4524-9baa-7c7ec7ceaa12",
   "metadata": {},
   "outputs": [
    {
     "name": "stdout",
     "output_type": "stream",
     "text": [
      "an unkempt kansas city disc jockey named ray has appointed himself an altar boy at the exalted shrine of jazz and his faith burns like a fivealarm fire embodied with respect and ferocity by frank boyd in the holler sessions which runs through friday at the paradise factory ray radiates a hardcore obsessiveness thats both scary and contagious you get the feeling that he wears sunglasses inside not to be cool but because the light hes seen is so bright part of ps 122s coil festival 2016 the holler sessions performed and written by mr boyd in collaboration with the experimental theater group the team with rachel chavkin and josh aaseng as consulting directors creates a convincing portrait of a monomaniac that for all its flashiness never blocks the view of the object of his passion yes ray with his hyperkinetic delivery and sweaty sense of urgency is a watchme kind of guy but what he really wants is for us to listen  not to him but to the discs he spins from a slovenly broadcast room designed and lighted by eric southern where he subsists on gulps of coffee whiskey apples and peanuts ray it seems discovered jazz only a few years ago and hes outraged that hes spent so much of his life without it how could schools have taught him about the nina the pinta and the santa maria he asks in astonished anger instead of the holy trinity of duke bird and billie like many a classic jazz dj hes steeped in the arcana of recording session lore and biographical back stories but he also retains the frothing enthusiasm of the newborn fanboy and he tears into convulsive obscenitypeppered rants that emulate the riffs of his favorite artists not that he thinks he could ever be on their level as ray points out many times he is no musician himself a faint cloud of pathos befogs ray when he leaves his chair to shimmy to the beats of coltrane davis armstrong and the charleses parker and mingus matt hubbs did the excellent sound design or speaks almost longingly of the lethal selfdestructiveness of many of his idols ray has the jerky rhythms the motor mouth and even the nosebleeds of a cokehead but when ray sits back and lets the music wash over him theres dignity in his awestruck stillness his raptness makes us want to hear through his ears and when the theater fades to black as it does intermittently throughout the show and we sit in the darkness with the music sound becomes tactile and even popstation babies and longhairs are likely to feel like true believers in the gospel of ray this information was last updated on aug 27 2018\n"
     ]
    }
   ],
   "source": [
    "remove_punct = str.maketrans('','','!\"#$%&\\'()*+,-./:;<=>?@[\\\\]^_`{|}~“”’—')\n",
    "text = text.translate(remove_punct) \n",
    "print(text)"
   ]
  },
  {
   "cell_type": "markdown",
   "id": "f11595ac-4b43-4b9e-8740-84f0b7145701",
   "metadata": {},
   "source": [
    "<br>\n",
    "\n",
    "The next step involves words themselves. One can argue that not all words are equally relevant, as some are recurrent and tied to grammar rather than them meaning of our text. These are known as **stopwords**, and include terms like _the, on, in, of, a_ etc. Several natural language processing libraries include different lists of stopwords. Let's look at <code>nltk</code> and <code>gensim</code> versions of stopwords."
   ]
  },
  {
   "cell_type": "markdown",
   "id": "74ff1abf-78fa-4d48-8784-777a67632186",
   "metadata": {},
   "source": [
    "##### NLTK"
   ]
  },
  {
   "cell_type": "code",
   "execution_count": 19,
   "id": "0a676809-48f3-4cdd-b000-662ad43d7083",
   "metadata": {},
   "outputs": [
    {
     "name": "stderr",
     "output_type": "stream",
     "text": [
      "[nltk_data] Downloading package stopwords to\n",
      "[nltk_data]     C:\\Users\\David\\AppData\\Roaming\\nltk_data...\n",
      "[nltk_data]   Package stopwords is already up-to-date!\n"
     ]
    }
   ],
   "source": [
    "import nltk\n",
    "nltk.download('stopwords')\n",
    "from nltk.corpus import stopwords "
   ]
  },
  {
   "cell_type": "code",
   "execution_count": 30,
   "id": "59c2a49a-2b43-4655-8ca2-6c010696bc9a",
   "metadata": {},
   "outputs": [
    {
     "name": "stdout",
     "output_type": "stream",
     "text": [
      "NLTK stopwords: 179\n",
      "['i', 'me', 'my', 'myself', 'we', 'our', 'ours', 'ourselves', 'you', \"you're\", \"you've\", \"you'll\", \"you'd\", 'your', 'yours', 'yourself', 'yourselves', 'he', 'him', 'his']\n"
     ]
    }
   ],
   "source": [
    "nltk_stopwords = stopwords.words('english')\n",
    "print('NLTK stopwords:',len(nltk_stopwords))\n",
    "print(nltk_stopwords[:20])"
   ]
  },
  {
   "cell_type": "markdown",
   "id": "5dcc5408-e875-4dbb-8d78-019d9f2be2b0",
   "metadata": {},
   "source": [
    "##### Gensim"
   ]
  },
  {
   "cell_type": "code",
   "execution_count": 31,
   "id": "0d5a1c39-c745-4cfb-809e-72cbf07c7ab6",
   "metadata": {},
   "outputs": [],
   "source": [
    "import gensim\n",
    "import gensim.corpora as corpora"
   ]
  },
  {
   "cell_type": "code",
   "execution_count": 32,
   "id": "c2dc62d1-0751-4916-907c-8b600ff3b252",
   "metadata": {},
   "outputs": [
    {
     "name": "stdout",
     "output_type": "stream",
     "text": [
      "GENSIM stopwords: 337\n",
      "['didn', 'somehow', 'elsewhere', 'anywhere', 'after', 'everywhere', 'otherwise', 'some', 'so', 'find', 'above', 'whereafter', 'we', 'name', 'do', 'of', 'still', 'many', 'former', 'doing']\n"
     ]
    }
   ],
   "source": [
    "gensim_sws = gensim.parsing.preprocessing.STOPWORDS\n",
    "gensim_stopwords = list(gensim_sws)\n",
    "print('GENSIM stopwords:',len(gensim_stopwords))\n",
    "print(gensim_stopwords[:20])"
   ]
  },
  {
   "cell_type": "code",
   "execution_count": 33,
   "id": "b070d6ba-5644-4fa3-9b52-d5403cd529f6",
   "metadata": {},
   "outputs": [
    {
     "name": "stdout",
     "output_type": "stream",
     "text": [
      "Total stopwords: 390\n"
     ]
    }
   ],
   "source": [
    "stop_words = list(set(gensim_stopwords + nltk_stopwords)) #Concatenate the two stop word lists\n",
    "print('Total stopwords:',len(stop_words))"
   ]
  },
  {
   "cell_type": "code",
   "execution_count": 34,
   "id": "5240b474-d6c8-42ac-9aa2-14cf28a18198",
   "metadata": {},
   "outputs": [
    {
     "name": "stdout",
     "output_type": "stream",
     "text": [
      "\u001b[31man\u001b[0m unkempt kansas city disc jockey named ray \u001b[31mhas\u001b[0m appointed \u001b[31mhimself\u001b[0m \u001b[31man\u001b[0m altar boy \u001b[31mat\u001b[0m \u001b[31mthe\u001b[0m exalted shrine \u001b[31mof\u001b[0m jazz \u001b[31mand\u001b[0m \u001b[31mhis\u001b[0m faith burns like \u001b[31ma\u001b[0m fivealarm \u001b[31mfire\u001b[0m embodied \u001b[31mwith\u001b[0m respect \u001b[31mand\u001b[0m ferocity \u001b[31mby\u001b[0m frank boyd \u001b[31min\u001b[0m \u001b[31mthe\u001b[0m holler sessions \u001b[31mwhich\u001b[0m runs \u001b[31mthrough\u001b[0m friday \u001b[31mat\u001b[0m \u001b[31mthe\u001b[0m paradise factory ray radiates \u001b[31ma\u001b[0m hardcore obsessiveness thats \u001b[31mboth\u001b[0m scary \u001b[31mand\u001b[0m contagious \u001b[31myou\u001b[0m \u001b[31mget\u001b[0m \u001b[31mthe\u001b[0m feeling \u001b[31mthat\u001b[0m \u001b[31mhe\u001b[0m wears sunglasses inside \u001b[31mnot\u001b[0m \u001b[31mto\u001b[0m \u001b[31mbe\u001b[0m cool \u001b[31mbut\u001b[0m \u001b[31mbecause\u001b[0m \u001b[31mthe\u001b[0m light hes seen \u001b[31mis\u001b[0m \u001b[31mso\u001b[0m bright \u001b[31mpart\u001b[0m \u001b[31mof\u001b[0m ps 122s coil festival 2016 \u001b[31mthe\u001b[0m holler sessions performed \u001b[31mand\u001b[0m written \u001b[31mby\u001b[0m mr boyd \u001b[31min\u001b[0m collaboration \u001b[31mwith\u001b[0m \u001b[31mthe\u001b[0m experimental theater group \u001b[31mthe\u001b[0m team \u001b[31mwith\u001b[0m rachel chavkin \u001b[31mand\u001b[0m josh aaseng \u001b[31mas\u001b[0m consulting directors creates \u001b[31ma\u001b[0m convincing portrait \u001b[31mof\u001b[0m \u001b[31ma\u001b[0m monomaniac \u001b[31mthat\u001b[0m \u001b[31mfor\u001b[0m \u001b[31mall\u001b[0m \u001b[31mits\u001b[0m flashiness \u001b[31mnever\u001b[0m blocks \u001b[31mthe\u001b[0m view \u001b[31mof\u001b[0m \u001b[31mthe\u001b[0m object \u001b[31mof\u001b[0m \u001b[31mhis\u001b[0m passion yes ray \u001b[31mwith\u001b[0m \u001b[31mhis\u001b[0m hyperkinetic delivery \u001b[31mand\u001b[0m sweaty sense \u001b[31mof\u001b[0m urgency \u001b[31mis\u001b[0m \u001b[31ma\u001b[0m watchme kind \u001b[31mof\u001b[0m guy \u001b[31mbut\u001b[0m \u001b[31mwhat\u001b[0m \u001b[31mhe\u001b[0m \u001b[31mreally\u001b[0m wants \u001b[31mis\u001b[0m \u001b[31mfor\u001b[0m \u001b[31mus\u001b[0m \u001b[31mto\u001b[0m listen \u001b[31mnot\u001b[0m \u001b[31mto\u001b[0m \u001b[31mhim\u001b[0m \u001b[31mbut\u001b[0m \u001b[31mto\u001b[0m \u001b[31mthe\u001b[0m discs \u001b[31mhe\u001b[0m spins \u001b[31mfrom\u001b[0m \u001b[31ma\u001b[0m slovenly broadcast room designed \u001b[31mand\u001b[0m lighted \u001b[31mby\u001b[0m eric southern \u001b[31mwhere\u001b[0m \u001b[31mhe\u001b[0m subsists \u001b[31mon\u001b[0m gulps \u001b[31mof\u001b[0m coffee whiskey apples \u001b[31mand\u001b[0m peanuts ray \u001b[31mit\u001b[0m \u001b[31mseems\u001b[0m discovered jazz \u001b[31monly\u001b[0m \u001b[31ma\u001b[0m \u001b[31mfew\u001b[0m years ago \u001b[31mand\u001b[0m hes outraged \u001b[31mthat\u001b[0m hes spent \u001b[31mso\u001b[0m \u001b[31mmuch\u001b[0m \u001b[31mof\u001b[0m \u001b[31mhis\u001b[0m life \u001b[31mwithout\u001b[0m \u001b[31mit\u001b[0m \u001b[31mhow\u001b[0m \u001b[31mcould\u001b[0m schools \u001b[31mhave\u001b[0m taught \u001b[31mhim\u001b[0m \u001b[31mabout\u001b[0m \u001b[31mthe\u001b[0m nina \u001b[31mthe\u001b[0m pinta \u001b[31mand\u001b[0m \u001b[31mthe\u001b[0m santa maria \u001b[31mhe\u001b[0m asks \u001b[31min\u001b[0m astonished anger instead \u001b[31mof\u001b[0m \u001b[31mthe\u001b[0m holy trinity \u001b[31mof\u001b[0m duke bird \u001b[31mand\u001b[0m billie like \u001b[31mmany\u001b[0m \u001b[31ma\u001b[0m classic jazz dj hes steeped \u001b[31min\u001b[0m \u001b[31mthe\u001b[0m arcana \u001b[31mof\u001b[0m recording session lore \u001b[31mand\u001b[0m biographical \u001b[31mback\u001b[0m stories \u001b[31mbut\u001b[0m \u001b[31mhe\u001b[0m \u001b[31malso\u001b[0m retains \u001b[31mthe\u001b[0m frothing enthusiasm \u001b[31mof\u001b[0m \u001b[31mthe\u001b[0m newborn fanboy \u001b[31mand\u001b[0m \u001b[31mhe\u001b[0m tears \u001b[31minto\u001b[0m convulsive obscenitypeppered rants \u001b[31mthat\u001b[0m emulate \u001b[31mthe\u001b[0m riffs \u001b[31mof\u001b[0m \u001b[31mhis\u001b[0m favorite artists \u001b[31mnot\u001b[0m \u001b[31mthat\u001b[0m \u001b[31mhe\u001b[0m thinks \u001b[31mhe\u001b[0m \u001b[31mcould\u001b[0m \u001b[31mever\u001b[0m \u001b[31mbe\u001b[0m \u001b[31mon\u001b[0m \u001b[31mtheir\u001b[0m level \u001b[31mas\u001b[0m ray points \u001b[31mout\u001b[0m \u001b[31mmany\u001b[0m times \u001b[31mhe\u001b[0m \u001b[31mis\u001b[0m \u001b[31mno\u001b[0m musician \u001b[31mhimself\u001b[0m \u001b[31ma\u001b[0m faint cloud \u001b[31mof\u001b[0m pathos befogs ray \u001b[31mwhen\u001b[0m \u001b[31mhe\u001b[0m leaves \u001b[31mhis\u001b[0m chair \u001b[31mto\u001b[0m shimmy \u001b[31mto\u001b[0m \u001b[31mthe\u001b[0m beats \u001b[31mof\u001b[0m coltrane davis armstrong \u001b[31mand\u001b[0m \u001b[31mthe\u001b[0m charleses parker \u001b[31mand\u001b[0m mingus matt hubbs \u001b[31mdid\u001b[0m \u001b[31mthe\u001b[0m excellent sound design \u001b[31mor\u001b[0m speaks \u001b[31malmost\u001b[0m longingly \u001b[31mof\u001b[0m \u001b[31mthe\u001b[0m lethal selfdestructiveness \u001b[31mof\u001b[0m \u001b[31mmany\u001b[0m \u001b[31mof\u001b[0m \u001b[31mhis\u001b[0m idols ray \u001b[31mhas\u001b[0m \u001b[31mthe\u001b[0m jerky rhythms \u001b[31mthe\u001b[0m motor mouth \u001b[31mand\u001b[0m \u001b[31meven\u001b[0m \u001b[31mthe\u001b[0m nosebleeds \u001b[31mof\u001b[0m \u001b[31ma\u001b[0m cokehead \u001b[31mbut\u001b[0m \u001b[31mwhen\u001b[0m ray sits \u001b[31mback\u001b[0m \u001b[31mand\u001b[0m lets \u001b[31mthe\u001b[0m music wash \u001b[31mover\u001b[0m \u001b[31mhim\u001b[0m theres dignity \u001b[31min\u001b[0m \u001b[31mhis\u001b[0m awestruck stillness \u001b[31mhis\u001b[0m raptness makes \u001b[31mus\u001b[0m want \u001b[31mto\u001b[0m hear \u001b[31mthrough\u001b[0m \u001b[31mhis\u001b[0m ears \u001b[31mand\u001b[0m \u001b[31mwhen\u001b[0m \u001b[31mthe\u001b[0m theater fades \u001b[31mto\u001b[0m black \u001b[31mas\u001b[0m \u001b[31mit\u001b[0m \u001b[31mdoes\u001b[0m intermittently \u001b[31mthroughout\u001b[0m \u001b[31mthe\u001b[0m \u001b[31mshow\u001b[0m \u001b[31mand\u001b[0m \u001b[31mwe\u001b[0m sit \u001b[31min\u001b[0m \u001b[31mthe\u001b[0m darkness \u001b[31mwith\u001b[0m \u001b[31mthe\u001b[0m music sound \u001b[31mbecomes\u001b[0m tactile \u001b[31mand\u001b[0m \u001b[31meven\u001b[0m popstation babies \u001b[31mand\u001b[0m longhairs \u001b[31mare\u001b[0m likely \u001b[31mto\u001b[0m feel like true believers \u001b[31min\u001b[0m \u001b[31mthe\u001b[0m gospel \u001b[31mof\u001b[0m ray \u001b[31mthis\u001b[0m information \u001b[31mwas\u001b[0m \u001b[31mlast\u001b[0m updated \u001b[31mon\u001b[0m aug 27 2018 \n"
     ]
    }
   ],
   "source": [
    "split_text = [i for j in text.split() for i in (j, ' ')]\n",
    "col_text = [\n",
    "    colored(x, 'red') if x in stop_words\n",
    "    else x \n",
    "    for x in split_text\n",
    "]\n",
    "\n",
    "print(''.join(col_text))"
   ]
  },
  {
   "cell_type": "code",
   "execution_count": 35,
   "id": "09148fb0-be89-4961-9a51-1bb8055f5232",
   "metadata": {},
   "outputs": [
    {
     "name": "stdout",
     "output_type": "stream",
     "text": [
      "\u001b[47m\u001b[37man\u001b[0m unkempt kansas city disc jockey named ray \u001b[47m\u001b[37mhas\u001b[0m appointed \u001b[47m\u001b[37mhimself\u001b[0m \u001b[47m\u001b[37man\u001b[0m altar boy \u001b[47m\u001b[37mat\u001b[0m \u001b[47m\u001b[37mthe\u001b[0m exalted shrine \u001b[47m\u001b[37mof\u001b[0m jazz \u001b[47m\u001b[37mand\u001b[0m \u001b[47m\u001b[37mhis\u001b[0m faith burns like \u001b[47m\u001b[37ma\u001b[0m fivealarm \u001b[47m\u001b[37mfire\u001b[0m embodied \u001b[47m\u001b[37mwith\u001b[0m respect \u001b[47m\u001b[37mand\u001b[0m ferocity \u001b[47m\u001b[37mby\u001b[0m frank boyd \u001b[47m\u001b[37min\u001b[0m \u001b[47m\u001b[37mthe\u001b[0m holler sessions \u001b[47m\u001b[37mwhich\u001b[0m runs \u001b[47m\u001b[37mthrough\u001b[0m friday \u001b[47m\u001b[37mat\u001b[0m \u001b[47m\u001b[37mthe\u001b[0m paradise factory ray radiates \u001b[47m\u001b[37ma\u001b[0m hardcore obsessiveness thats \u001b[47m\u001b[37mboth\u001b[0m scary \u001b[47m\u001b[37mand\u001b[0m contagious \u001b[47m\u001b[37myou\u001b[0m \u001b[47m\u001b[37mget\u001b[0m \u001b[47m\u001b[37mthe\u001b[0m feeling \u001b[47m\u001b[37mthat\u001b[0m \u001b[47m\u001b[37mhe\u001b[0m wears sunglasses inside \u001b[47m\u001b[37mnot\u001b[0m \u001b[47m\u001b[37mto\u001b[0m \u001b[47m\u001b[37mbe\u001b[0m cool \u001b[47m\u001b[37mbut\u001b[0m \u001b[47m\u001b[37mbecause\u001b[0m \u001b[47m\u001b[37mthe\u001b[0m light hes seen \u001b[47m\u001b[37mis\u001b[0m \u001b[47m\u001b[37mso\u001b[0m bright \u001b[47m\u001b[37mpart\u001b[0m \u001b[47m\u001b[37mof\u001b[0m ps 122s coil festival 2016 \u001b[47m\u001b[37mthe\u001b[0m holler sessions performed \u001b[47m\u001b[37mand\u001b[0m written \u001b[47m\u001b[37mby\u001b[0m mr boyd \u001b[47m\u001b[37min\u001b[0m collaboration \u001b[47m\u001b[37mwith\u001b[0m \u001b[47m\u001b[37mthe\u001b[0m experimental theater group \u001b[47m\u001b[37mthe\u001b[0m team \u001b[47m\u001b[37mwith\u001b[0m rachel chavkin \u001b[47m\u001b[37mand\u001b[0m josh aaseng \u001b[47m\u001b[37mas\u001b[0m consulting directors creates \u001b[47m\u001b[37ma\u001b[0m convincing portrait \u001b[47m\u001b[37mof\u001b[0m \u001b[47m\u001b[37ma\u001b[0m monomaniac \u001b[47m\u001b[37mthat\u001b[0m \u001b[47m\u001b[37mfor\u001b[0m \u001b[47m\u001b[37mall\u001b[0m \u001b[47m\u001b[37mits\u001b[0m flashiness \u001b[47m\u001b[37mnever\u001b[0m blocks \u001b[47m\u001b[37mthe\u001b[0m view \u001b[47m\u001b[37mof\u001b[0m \u001b[47m\u001b[37mthe\u001b[0m object \u001b[47m\u001b[37mof\u001b[0m \u001b[47m\u001b[37mhis\u001b[0m passion yes ray \u001b[47m\u001b[37mwith\u001b[0m \u001b[47m\u001b[37mhis\u001b[0m hyperkinetic delivery \u001b[47m\u001b[37mand\u001b[0m sweaty sense \u001b[47m\u001b[37mof\u001b[0m urgency \u001b[47m\u001b[37mis\u001b[0m \u001b[47m\u001b[37ma\u001b[0m watchme kind \u001b[47m\u001b[37mof\u001b[0m guy \u001b[47m\u001b[37mbut\u001b[0m \u001b[47m\u001b[37mwhat\u001b[0m \u001b[47m\u001b[37mhe\u001b[0m \u001b[47m\u001b[37mreally\u001b[0m wants \u001b[47m\u001b[37mis\u001b[0m \u001b[47m\u001b[37mfor\u001b[0m \u001b[47m\u001b[37mus\u001b[0m \u001b[47m\u001b[37mto\u001b[0m listen \u001b[47m\u001b[37mnot\u001b[0m \u001b[47m\u001b[37mto\u001b[0m \u001b[47m\u001b[37mhim\u001b[0m \u001b[47m\u001b[37mbut\u001b[0m \u001b[47m\u001b[37mto\u001b[0m \u001b[47m\u001b[37mthe\u001b[0m discs \u001b[47m\u001b[37mhe\u001b[0m spins \u001b[47m\u001b[37mfrom\u001b[0m \u001b[47m\u001b[37ma\u001b[0m slovenly broadcast room designed \u001b[47m\u001b[37mand\u001b[0m lighted \u001b[47m\u001b[37mby\u001b[0m eric southern \u001b[47m\u001b[37mwhere\u001b[0m \u001b[47m\u001b[37mhe\u001b[0m subsists \u001b[47m\u001b[37mon\u001b[0m gulps \u001b[47m\u001b[37mof\u001b[0m coffee whiskey apples \u001b[47m\u001b[37mand\u001b[0m peanuts ray \u001b[47m\u001b[37mit\u001b[0m \u001b[47m\u001b[37mseems\u001b[0m discovered jazz \u001b[47m\u001b[37monly\u001b[0m \u001b[47m\u001b[37ma\u001b[0m \u001b[47m\u001b[37mfew\u001b[0m years ago \u001b[47m\u001b[37mand\u001b[0m hes outraged \u001b[47m\u001b[37mthat\u001b[0m hes spent \u001b[47m\u001b[37mso\u001b[0m \u001b[47m\u001b[37mmuch\u001b[0m \u001b[47m\u001b[37mof\u001b[0m \u001b[47m\u001b[37mhis\u001b[0m life \u001b[47m\u001b[37mwithout\u001b[0m \u001b[47m\u001b[37mit\u001b[0m \u001b[47m\u001b[37mhow\u001b[0m \u001b[47m\u001b[37mcould\u001b[0m schools \u001b[47m\u001b[37mhave\u001b[0m taught \u001b[47m\u001b[37mhim\u001b[0m \u001b[47m\u001b[37mabout\u001b[0m \u001b[47m\u001b[37mthe\u001b[0m nina \u001b[47m\u001b[37mthe\u001b[0m pinta \u001b[47m\u001b[37mand\u001b[0m \u001b[47m\u001b[37mthe\u001b[0m santa maria \u001b[47m\u001b[37mhe\u001b[0m asks \u001b[47m\u001b[37min\u001b[0m astonished anger instead \u001b[47m\u001b[37mof\u001b[0m \u001b[47m\u001b[37mthe\u001b[0m holy trinity \u001b[47m\u001b[37mof\u001b[0m duke bird \u001b[47m\u001b[37mand\u001b[0m billie like \u001b[47m\u001b[37mmany\u001b[0m \u001b[47m\u001b[37ma\u001b[0m classic jazz dj hes steeped \u001b[47m\u001b[37min\u001b[0m \u001b[47m\u001b[37mthe\u001b[0m arcana \u001b[47m\u001b[37mof\u001b[0m recording session lore \u001b[47m\u001b[37mand\u001b[0m biographical \u001b[47m\u001b[37mback\u001b[0m stories \u001b[47m\u001b[37mbut\u001b[0m \u001b[47m\u001b[37mhe\u001b[0m \u001b[47m\u001b[37malso\u001b[0m retains \u001b[47m\u001b[37mthe\u001b[0m frothing enthusiasm \u001b[47m\u001b[37mof\u001b[0m \u001b[47m\u001b[37mthe\u001b[0m newborn fanboy \u001b[47m\u001b[37mand\u001b[0m \u001b[47m\u001b[37mhe\u001b[0m tears \u001b[47m\u001b[37minto\u001b[0m convulsive obscenitypeppered rants \u001b[47m\u001b[37mthat\u001b[0m emulate \u001b[47m\u001b[37mthe\u001b[0m riffs \u001b[47m\u001b[37mof\u001b[0m \u001b[47m\u001b[37mhis\u001b[0m favorite artists \u001b[47m\u001b[37mnot\u001b[0m \u001b[47m\u001b[37mthat\u001b[0m \u001b[47m\u001b[37mhe\u001b[0m thinks \u001b[47m\u001b[37mhe\u001b[0m \u001b[47m\u001b[37mcould\u001b[0m \u001b[47m\u001b[37mever\u001b[0m \u001b[47m\u001b[37mbe\u001b[0m \u001b[47m\u001b[37mon\u001b[0m \u001b[47m\u001b[37mtheir\u001b[0m level \u001b[47m\u001b[37mas\u001b[0m ray points \u001b[47m\u001b[37mout\u001b[0m \u001b[47m\u001b[37mmany\u001b[0m times \u001b[47m\u001b[37mhe\u001b[0m \u001b[47m\u001b[37mis\u001b[0m \u001b[47m\u001b[37mno\u001b[0m musician \u001b[47m\u001b[37mhimself\u001b[0m \u001b[47m\u001b[37ma\u001b[0m faint cloud \u001b[47m\u001b[37mof\u001b[0m pathos befogs ray \u001b[47m\u001b[37mwhen\u001b[0m \u001b[47m\u001b[37mhe\u001b[0m leaves \u001b[47m\u001b[37mhis\u001b[0m chair \u001b[47m\u001b[37mto\u001b[0m shimmy \u001b[47m\u001b[37mto\u001b[0m \u001b[47m\u001b[37mthe\u001b[0m beats \u001b[47m\u001b[37mof\u001b[0m coltrane davis armstrong \u001b[47m\u001b[37mand\u001b[0m \u001b[47m\u001b[37mthe\u001b[0m charleses parker \u001b[47m\u001b[37mand\u001b[0m mingus matt hubbs \u001b[47m\u001b[37mdid\u001b[0m \u001b[47m\u001b[37mthe\u001b[0m excellent sound design \u001b[47m\u001b[37mor\u001b[0m speaks \u001b[47m\u001b[37malmost\u001b[0m longingly \u001b[47m\u001b[37mof\u001b[0m \u001b[47m\u001b[37mthe\u001b[0m lethal selfdestructiveness \u001b[47m\u001b[37mof\u001b[0m \u001b[47m\u001b[37mmany\u001b[0m \u001b[47m\u001b[37mof\u001b[0m \u001b[47m\u001b[37mhis\u001b[0m idols ray \u001b[47m\u001b[37mhas\u001b[0m \u001b[47m\u001b[37mthe\u001b[0m jerky rhythms \u001b[47m\u001b[37mthe\u001b[0m motor mouth \u001b[47m\u001b[37mand\u001b[0m \u001b[47m\u001b[37meven\u001b[0m \u001b[47m\u001b[37mthe\u001b[0m nosebleeds \u001b[47m\u001b[37mof\u001b[0m \u001b[47m\u001b[37ma\u001b[0m cokehead \u001b[47m\u001b[37mbut\u001b[0m \u001b[47m\u001b[37mwhen\u001b[0m ray sits \u001b[47m\u001b[37mback\u001b[0m \u001b[47m\u001b[37mand\u001b[0m lets \u001b[47m\u001b[37mthe\u001b[0m music wash \u001b[47m\u001b[37mover\u001b[0m \u001b[47m\u001b[37mhim\u001b[0m theres dignity \u001b[47m\u001b[37min\u001b[0m \u001b[47m\u001b[37mhis\u001b[0m awestruck stillness \u001b[47m\u001b[37mhis\u001b[0m raptness makes \u001b[47m\u001b[37mus\u001b[0m want \u001b[47m\u001b[37mto\u001b[0m hear \u001b[47m\u001b[37mthrough\u001b[0m \u001b[47m\u001b[37mhis\u001b[0m ears \u001b[47m\u001b[37mand\u001b[0m \u001b[47m\u001b[37mwhen\u001b[0m \u001b[47m\u001b[37mthe\u001b[0m theater fades \u001b[47m\u001b[37mto\u001b[0m black \u001b[47m\u001b[37mas\u001b[0m \u001b[47m\u001b[37mit\u001b[0m \u001b[47m\u001b[37mdoes\u001b[0m intermittently \u001b[47m\u001b[37mthroughout\u001b[0m \u001b[47m\u001b[37mthe\u001b[0m \u001b[47m\u001b[37mshow\u001b[0m \u001b[47m\u001b[37mand\u001b[0m \u001b[47m\u001b[37mwe\u001b[0m sit \u001b[47m\u001b[37min\u001b[0m \u001b[47m\u001b[37mthe\u001b[0m darkness \u001b[47m\u001b[37mwith\u001b[0m \u001b[47m\u001b[37mthe\u001b[0m music sound \u001b[47m\u001b[37mbecomes\u001b[0m tactile \u001b[47m\u001b[37mand\u001b[0m \u001b[47m\u001b[37meven\u001b[0m popstation babies \u001b[47m\u001b[37mand\u001b[0m longhairs \u001b[47m\u001b[37mare\u001b[0m likely \u001b[47m\u001b[37mto\u001b[0m feel like true believers \u001b[47m\u001b[37min\u001b[0m \u001b[47m\u001b[37mthe\u001b[0m gospel \u001b[47m\u001b[37mof\u001b[0m ray \u001b[47m\u001b[37mthis\u001b[0m information \u001b[47m\u001b[37mwas\u001b[0m \u001b[47m\u001b[37mlast\u001b[0m updated \u001b[47m\u001b[37mon\u001b[0m aug 27 2018 \n"
     ]
    }
   ],
   "source": [
    "col_text = [\n",
    "    colored(x, 'white', 'on_white') if x in stop_words\n",
    "    else x \n",
    "    for x in split_text\n",
    "]\n",
    "\n",
    "print(''.join(col_text))"
   ]
  },
  {
   "cell_type": "code",
   "execution_count": 36,
   "id": "25b04b9f-8238-44ce-8796-aebfc0563d7e",
   "metadata": {},
   "outputs": [
    {
     "name": "stdout",
     "output_type": "stream",
     "text": [
      "['unkempt', 'kansas', 'city', 'disc', 'jockey', 'named', 'ray', 'appointed', 'altar', 'boy', 'exalted', 'shrine', 'jazz', 'faith', 'burns', 'like', 'fivealarm', 'embodied', 'respect', 'ferocity', 'frank', 'boyd', 'holler', 'sessions', 'runs', 'friday', 'paradise', 'factory', 'ray', 'radiates', 'hardcore', 'obsessiveness', 'thats', 'scary', 'contagious', 'feeling', 'wears', 'sunglasses', 'inside', 'cool', 'light', 'hes', 'seen', 'bright', 'ps', '122s', 'coil', 'festival', '2016', 'holler', 'sessions', 'performed', 'written', 'mr', 'boyd', 'collaboration', 'experimental', 'theater', 'group', 'team', 'rachel', 'chavkin', 'josh', 'aaseng', 'consulting', 'directors', 'creates', 'convincing', 'portrait', 'monomaniac', 'flashiness', 'blocks', 'view', 'object', 'passion', 'yes', 'ray', 'hyperkinetic', 'delivery', 'sweaty', 'sense', 'urgency', 'watchme', 'kind', 'guy', 'wants', 'listen', 'discs', 'spins', 'slovenly', 'broadcast', 'room', 'designed', 'lighted', 'eric', 'southern', 'subsists', 'gulps', 'coffee', 'whiskey', 'apples', 'peanuts', 'ray', 'discovered', 'jazz', 'years', 'ago', 'hes', 'outraged', 'hes', 'spent', 'life', 'schools', 'taught', 'nina', 'pinta', 'santa', 'maria', 'asks', 'astonished', 'anger', 'instead', 'holy', 'trinity', 'duke', 'bird', 'billie', 'like', 'classic', 'jazz', 'dj', 'hes', 'steeped', 'arcana', 'recording', 'session', 'lore', 'biographical', 'stories', 'retains', 'frothing', 'enthusiasm', 'newborn', 'fanboy', 'tears', 'convulsive', 'obscenitypeppered', 'rants', 'emulate', 'riffs', 'favorite', 'artists', 'thinks', 'level', 'ray', 'points', 'times', 'musician', 'faint', 'cloud', 'pathos', 'befogs', 'ray', 'leaves', 'chair', 'shimmy', 'beats', 'coltrane', 'davis', 'armstrong', 'charleses', 'parker', 'mingus', 'matt', 'hubbs', 'excellent', 'sound', 'design', 'speaks', 'longingly', 'lethal', 'selfdestructiveness', 'idols', 'ray', 'jerky', 'rhythms', 'motor', 'mouth', 'nosebleeds', 'cokehead', 'ray', 'sits', 'lets', 'music', 'wash', 'theres', 'dignity', 'awestruck', 'stillness', 'raptness', 'makes', 'want', 'hear', 'ears', 'theater', 'fades', 'black', 'intermittently', 'sit', 'darkness', 'music', 'sound', 'tactile', 'popstation', 'babies', 'longhairs', 'likely', 'feel', 'like', 'true', 'believers', 'gospel', 'ray', 'information', 'updated', 'aug', '27', '2018']\n"
     ]
    }
   ],
   "source": [
    "text = [x for x in text.split() if x not in stop_words] \n",
    "print(text)"
   ]
  },
  {
   "cell_type": "markdown",
   "id": "9c0cf554-c1b1-4463-b468-7fedb2844c9b",
   "metadata": {},
   "source": [
    "<br>\n",
    "\n",
    "The decision to remove or transform digits will vary from application to application. Here, we will remove them."
   ]
  },
  {
   "cell_type": "code",
   "execution_count": 37,
   "id": "87f61685-c4a5-4d71-a74b-4350359e00d2",
   "metadata": {},
   "outputs": [
    {
     "name": "stdout",
     "output_type": "stream",
     "text": [
      "an unkempt kansas city disc jockey named ray has appointed himself an altar boy at the exalted shrine of jazz and his faith burns like a fivealarm fire embodied with respect and ferocity by frank boyd in the holler sessions which runs through friday at the paradise factory ray radiates a hardcore obsessiveness thats both scary and contagious you get the feeling that he wears sunglasses inside not to be cool but because the light hes seen is so bright part of ps \u001b[31m1\u001b[0m\u001b[31m2\u001b[0m\u001b[31m2\u001b[0ms coil festival \u001b[31m2\u001b[0m\u001b[31m0\u001b[0m\u001b[31m1\u001b[0m\u001b[31m6\u001b[0m the holler sessions performed and written by mr boyd in collaboration with the experimental theater group the team with rachel chavkin and josh aaseng as consulting directors creates a convincing portrait of a monomaniac that for all its flashiness never blocks the view of the object of his passion yes ray with his hyperkinetic delivery and sweaty sense of urgency is a watchme kind of guy but what he really wants is for us to listen not to him but to the discs he spins from a slovenly broadcast room designed and lighted by eric southern where he subsists on gulps of coffee whiskey apples and peanuts ray it seems discovered jazz only a few years ago and hes outraged that hes spent so much of his life without it how could schools have taught him about the nina the pinta and the santa maria he asks in astonished anger instead of the holy trinity of duke bird and billie like many a classic jazz dj hes steeped in the arcana of recording session lore and biographical back stories but he also retains the frothing enthusiasm of the newborn fanboy and he tears into convulsive obscenitypeppered rants that emulate the riffs of his favorite artists not that he thinks he could ever be on their level as ray points out many times he is no musician himself a faint cloud of pathos befogs ray when he leaves his chair to shimmy to the beats of coltrane davis armstrong and the charleses parker and mingus matt hubbs did the excellent sound design or speaks almost longingly of the lethal selfdestructiveness of many of his idols ray has the jerky rhythms the motor mouth and even the nosebleeds of a cokehead but when ray sits back and lets the music wash over him theres dignity in his awestruck stillness his raptness makes us want to hear through his ears and when the theater fades to black as it does intermittently throughout the show and we sit in the darkness with the music sound becomes tactile and even popstation babies and longhairs are likely to feel like true believers in the gospel of ray this information was last updated on aug \u001b[31m2\u001b[0m\u001b[31m7\u001b[0m \u001b[31m2\u001b[0m\u001b[31m0\u001b[0m\u001b[31m1\u001b[0m\u001b[31m8\u001b[0m \n"
     ]
    }
   ],
   "source": [
    "col_text = [\n",
    "    colored(x, 'red') if x.isdigit()\n",
    "    else x \n",
    "    for i in split_text for x in i\n",
    "]\n",
    "\n",
    "print(''.join(col_text))"
   ]
  },
  {
   "cell_type": "code",
   "execution_count": 38,
   "id": "455c830f-53be-4dfe-a2c4-de0710b3a953",
   "metadata": {},
   "outputs": [
    {
     "name": "stdout",
     "output_type": "stream",
     "text": [
      "['unkempt', 'kansas', 'city', 'disc', 'jockey', 'named', 'ray', 'appointed', 'altar', 'boy', 'exalted', 'shrine', 'jazz', 'faith', 'burns', 'like', 'fivealarm', 'embodied', 'respect', 'ferocity', 'frank', 'boyd', 'holler', 'sessions', 'runs', 'friday', 'paradise', 'factory', 'ray', 'radiates', 'hardcore', 'obsessiveness', 'thats', 'scary', 'contagious', 'feeling', 'wears', 'sunglasses', 'inside', 'cool', 'light', 'hes', 'seen', 'bright', 'ps', 's', 'coil', 'festival', 'holler', 'sessions', 'performed', 'written', 'mr', 'boyd', 'collaboration', 'experimental', 'theater', 'group', 'team', 'rachel', 'chavkin', 'josh', 'aaseng', 'consulting', 'directors', 'creates', 'convincing', 'portrait', 'monomaniac', 'flashiness', 'blocks', 'view', 'object', 'passion', 'yes', 'ray', 'hyperkinetic', 'delivery', 'sweaty', 'sense', 'urgency', 'watchme', 'kind', 'guy', 'wants', 'listen', 'discs', 'spins', 'slovenly', 'broadcast', 'room', 'designed', 'lighted', 'eric', 'southern', 'subsists', 'gulps', 'coffee', 'whiskey', 'apples', 'peanuts', 'ray', 'discovered', 'jazz', 'years', 'ago', 'hes', 'outraged', 'hes', 'spent', 'life', 'schools', 'taught', 'nina', 'pinta', 'santa', 'maria', 'asks', 'astonished', 'anger', 'instead', 'holy', 'trinity', 'duke', 'bird', 'billie', 'like', 'classic', 'jazz', 'dj', 'hes', 'steeped', 'arcana', 'recording', 'session', 'lore', 'biographical', 'stories', 'retains', 'frothing', 'enthusiasm', 'newborn', 'fanboy', 'tears', 'convulsive', 'obscenitypeppered', 'rants', 'emulate', 'riffs', 'favorite', 'artists', 'thinks', 'level', 'ray', 'points', 'times', 'musician', 'faint', 'cloud', 'pathos', 'befogs', 'ray', 'leaves', 'chair', 'shimmy', 'beats', 'coltrane', 'davis', 'armstrong', 'charleses', 'parker', 'mingus', 'matt', 'hubbs', 'excellent', 'sound', 'design', 'speaks', 'longingly', 'lethal', 'selfdestructiveness', 'idols', 'ray', 'jerky', 'rhythms', 'motor', 'mouth', 'nosebleeds', 'cokehead', 'ray', 'sits', 'lets', 'music', 'wash', 'theres', 'dignity', 'awestruck', 'stillness', 'raptness', 'makes', 'want', 'hear', 'ears', 'theater', 'fades', 'black', 'intermittently', 'sit', 'darkness', 'music', 'sound', 'tactile', 'popstation', 'babies', 'longhairs', 'likely', 'feel', 'like', 'true', 'believers', 'gospel', 'ray', 'information', 'updated', 'aug']\n"
     ]
    }
   ],
   "source": [
    "split_text = [i for j in ' '.join(text).split() for i in (j, ' ')]\n",
    "col_text = [x for i in split_text for x in i if not x.isdigit()]\n",
    "\n",
    "text = ''.join(col_text).split()\n",
    "\n",
    "print(text)"
   ]
  },
  {
   "cell_type": "code",
   "execution_count": 39,
   "id": "1aac75c4-36da-4335-8626-9306c28ed6f3",
   "metadata": {},
   "outputs": [
    {
     "data": {
      "text/plain": [
       "[('ray', 9),\n",
       " ('hes', 4),\n",
       " ('jazz', 3),\n",
       " ('like', 3),\n",
       " ('boyd', 2),\n",
       " ('holler', 2),\n",
       " ('sessions', 2),\n",
       " ('theater', 2),\n",
       " ('sound', 2),\n",
       " ('music', 2)]"
      ]
     },
     "execution_count": 39,
     "metadata": {},
     "output_type": "execute_result"
    }
   ],
   "source": [
    "from collections import Counter\n",
    "freqs = Counter(text) # Bag of Words representation for the first court case\n",
    "freqs.most_common()[:10]"
   ]
  },
  {
   "cell_type": "markdown",
   "id": "b5015172-6017-4704-aea2-4653791ded15",
   "metadata": {},
   "source": [
    "#### Stems, lemmas"
   ]
  },
  {
   "cell_type": "markdown",
   "id": "1a13f366-775f-4ebb-9207-28f641f60de3",
   "metadata": {},
   "source": [
    "We may also be interested in further reducing dimensionality by reducing words to their common linguistic root. In order to do so, we can either _stem_ or _lemmatize_ words. Stemming is a relatively crude method for cataloging related words; it essentially removes letters from the end until the stem is reached."
   ]
  },
  {
   "cell_type": "code",
   "execution_count": 40,
   "id": "73ea3b5f-b515-4cb1-af40-e49a4e99c026",
   "metadata": {},
   "outputs": [
    {
     "name": "stdout",
     "output_type": "stream",
     "text": [
      "['unkempt', 'kansa', 'citi', 'disc', 'jockey', 'name', 'ray', 'appoint', 'altar', 'boy', 'exalt', 'shrine', 'jazz', 'faith', 'burn', 'like', 'fivealarm', 'embodi', 'respect', 'feroc', 'frank', 'boyd', 'holler', 'session', 'run', 'friday', 'paradis', 'factori', 'ray', 'radiat', 'hardcor', 'obsess', 'that', 'scari', 'contagi', 'feel', 'wear', 'sunglass', 'insid', 'cool', 'light', 'hes', 'seen', 'bright', 'ps', 's', 'coil', 'festiv', 'holler', 'session', 'perform', 'written', 'mr', 'boyd', 'collabor', 'experiment', 'theater', 'group', 'team', 'rachel', 'chavkin', 'josh', 'aaseng', 'consult', 'director', 'creat', 'convinc', 'portrait', 'monomaniac', 'flashi', 'block', 'view', 'object', 'passion', 'yes', 'ray', 'hyperkinet', 'deliveri', 'sweati', 'sens', 'urgenc', 'watchm', 'kind', 'guy', 'want', 'listen', 'disc', 'spin', 'sloven', 'broadcast', 'room', 'design', 'light', 'eric', 'southern', 'subsist', 'gulp', 'coffe', 'whiskey', 'appl', 'peanut', 'ray', 'discov', 'jazz', 'year', 'ago', 'hes', 'outrag', 'hes', 'spent', 'life', 'school', 'taught', 'nina', 'pinta', 'santa', 'maria', 'ask', 'astonish', 'anger', 'instead', 'holi', 'triniti', 'duke', 'bird', 'billi', 'like', 'classic', 'jazz', 'dj', 'hes', 'steep', 'arcana', 'record', 'session', 'lore', 'biograph', 'stori', 'retain', 'froth', 'enthusiasm', 'newborn', 'fanboy', 'tear', 'convuls', 'obscenitypepp', 'rant', 'emul', 'riff', 'favorit', 'artist', 'think', 'level', 'ray', 'point', 'time', 'musician', 'faint', 'cloud', 'patho', 'befog', 'ray', 'leav', 'chair', 'shimmi', 'beat', 'coltran', 'davi', 'armstrong', 'charles', 'parker', 'mingus', 'matt', 'hubb', 'excel', 'sound', 'design', 'speak', 'long', 'lethal', 'selfdestruct', 'idol', 'ray', 'jerki', 'rhythm', 'motor', 'mouth', 'noseble', 'cokehead', 'ray', 'sit', 'let', 'music', 'wash', 'there', 'digniti', 'awestruck', 'still', 'rapt', 'make', 'want', 'hear', 'ear', 'theater', 'fade', 'black', 'intermitt', 'sit', 'dark', 'music', 'sound', 'tactil', 'popstat', 'babi', 'longhair', 'like', 'feel', 'like', 'true', 'believ', 'gospel', 'ray', 'inform', 'updat', 'aug']\n"
     ]
    }
   ],
   "source": [
    "from nltk.stem import SnowballStemmer\n",
    "\n",
    "stemmer = SnowballStemmer('english') # Stemming words using NLTK utility SnowballStemmer, or Porter2\n",
    "tokens_stemmed = [stemmer.stem(t) for t in text]\n",
    "print(tokens_stemmed)"
   ]
  },
  {
   "cell_type": "markdown",
   "id": "2119a1de-8e42-46a2-9a11-35fcc93186b9",
   "metadata": {},
   "source": [
    "<br>Unfortunately, English has many exceptions where a more sophisticated method is required. In contrast to stemming, lemmatization looks beyond word reduction and considers a language's full vocabulary to apply a morphological analysis to words. The lemma of _'was'_ is _'be'_ and the lemma of _'mice'_ is _'mouse'_. For information of spacy's model, check [here](https://spacy.io/models/en)."
   ]
  },
  {
   "cell_type": "code",
   "execution_count": 20,
   "id": "7f0fe89f-6eb5-4dcd-816f-974c8a5b243a",
   "metadata": {},
   "outputs": [
    {
     "name": "stdout",
     "output_type": "stream",
     "text": [
      "[!] Skipping model package dependencies and setting `--no-deps`. You don't seem\n",
      "to have the spaCy package itself installed (maybe because you've built from\n",
      "source?), so installing the model dependencies would cause spaCy to be\n",
      "downloaded, which probably isn't what you want. If the model package has other\n",
      "dependencies, you'll have to install them manually.\n",
      "Collecting en_core_web_sm==2.3.1\n",
      "  Downloading https://github.com/explosion/spacy-models/releases/download/en_core_web_sm-2.3.1/en_core_web_sm-2.3.1.tar.gz (12.0 MB)\n",
      "[+] Download and installation successful\n",
      "You can now load the model via spacy.load('en_core_web_sm')\n"
     ]
    }
   ],
   "source": [
    "!python -m spacy download en_core_web_sm"
   ]
  },
  {
   "cell_type": "code",
   "execution_count": 21,
   "id": "1303727f-74c6-4d3c-aaa8-bc0d0bffdb60",
   "metadata": {},
   "outputs": [
    {
     "name": "stdout",
     "output_type": "stream",
     "text": [
      "darkness             NOUN   5523010817707517989    darkness\n",
      "music                NOUN   13617878141848112644   music\n",
      "sound                VERB   1289836513871212815    sound\n",
      "tactile              ADJ    5132190181732026497    tactile\n",
      "popstation           NOUN   3766186773784785210    popstation\n",
      "babies               NOUN   11006452741498633892   baby\n",
      "longhairs            VERB   2654126123548375628    longhair\n",
      "likely               ADV    6740298879949941214    likely\n",
      "feel                 VERB   5741770584995928333    feel\n",
      "like                 SCONJ  18194338103975822726   like\n",
      "true                 ADJ    7434368892455186804    true\n",
      "believers            NOUN   3634892748516982575    believer\n",
      "gospel               PROPN  2006039062016309023    gospel\n",
      "ray                  PROPN  11428735203161385371   ray\n",
      "information          PROPN  5552516367584430480    information\n",
      "updated              VERB   1936357517718432020    update\n",
      "aug                  PROPN  17562083453191728838   aug\n",
      "mice                 NOUN   1384165645700560590    mouse\n",
      "and                  CCONJ  2283656566040971221    and\n",
      "mouse                NOUN   1384165645700560590    mouse\n"
     ]
    }
   ],
   "source": [
    "import spacy\n",
    "import en_core_web_sm\n",
    "nlp = spacy.load('en_core_web_sm')\n",
    "\n",
    "def show_lemmas(_text):\n",
    "    for token in _text:\n",
    "        print(f'{token.text:{20}} {token.pos_:{6}} {token.lemma:<{22}} {token.lemma_}')\n",
    "        \n",
    "text_nlp = nlp(' '.join(text) + ' mice and mouse')\n",
    "show_lemmas(text_nlp[-20:])"
   ]
  },
  {
   "cell_type": "markdown",
   "id": "5734ce7a-adc6-493b-b9cc-706512801713",
   "metadata": {},
   "source": [
    "## Document-term matrix"
   ]
  },
  {
   "cell_type": "markdown",
   "id": "057251be-af7e-43fd-8385-2499156c5a6e",
   "metadata": {},
   "source": [
    "The exercise above serves to ilustrate some of the steps that a researcher may use to reduce the dimensionality and noise in the data. The next step is to transform our corpus on a matrix with $D$ rows and $V$ columns. This representation largely ignores interdependence between words and context, but provides a tractable form for most econometric applications."
   ]
  },
  {
   "cell_type": "code",
   "execution_count": 41,
   "id": "e6be3393-a36a-4d62-8bc4-e96efaa8899b",
   "metadata": {},
   "outputs": [],
   "source": [
    "news_lite = pd.read_csv(datadir / 'news_lite.csv', usecols=['article'])\n",
    "\n",
    "news_lite['article'] = news_lite['article'].astype('str')"
   ]
  },
  {
   "cell_type": "code",
   "execution_count": 43,
   "id": "d36b89e6-e90b-48c2-9cd8-4565a711bb1b",
   "metadata": {},
   "outputs": [
    {
     "data": {
      "text/plain": [
       "0    CAPE TOWN (Reuters) - South African FIFA presidential candidate Tokyo Sexwale said on Monday he is a realist who is “open to negotiations and alliances” ahead of Friday’s vote in Zurich. Sexwale, ...\n",
       "1    TOKYO, May 21 (Reuters) - Japanese government bond prices were flat on Tuesday, with a regular debt-buying operation by the central bank helping offset negative pressure from a retreat by U.S. Tre...\n",
       "2         MOSCOW (Reuters) - A total of 48,000 of Russian troops have taken part in Moscow’s military campaign in Syria, Russian Defence Minister Sergei Shoigu said on Friday. Reporting by Dmitry Solovyov\n",
       "3    Georgetown University, J.D.\\nGeorgetown University, B.A. \\n\\nAdministration \\n        —\\n            08/13/19 12:10 PM EDT\\n\\n \\n\\nNational Security \\n        —\\n            08/12/19 12:19 PM EDT\\...\n",
       "4    Aug 16 (Reuters) - Tecan Group AG: * TECAN ACCELERATES BROAD GENOMICS STRATEGY WITH THE ACQUISITION OF NUGEN TECHNOLOGIES * CLOSING OF TRANSACTION EXPECTED WITHIN COMING WEEKS Source text for Eiko...\n",
       "Name: article, dtype: object"
      ]
     },
     "execution_count": 43,
     "metadata": {},
     "output_type": "execute_result"
    }
   ],
   "source": [
    "news_lite.article.head()"
   ]
  },
  {
   "cell_type": "code",
   "execution_count": 44,
   "id": "51598e77-5201-401b-a17f-4cc5d61d8194",
   "metadata": {},
   "outputs": [],
   "source": [
    "# Pre-processing steps\n",
    "remove_punct = str.maketrans('','','!\"#$%&\\'()*+,-./:;<=>?@[\\\\]^_`{|}~“”’')\n",
    "stop_words = stopwords.words('english')\n",
    "stop_words.append('hes')\n",
    "stemmer = SnowballStemmer('english')"
   ]
  },
  {
   "cell_type": "code",
   "execution_count": 45,
   "id": "2d881d4f-c350-49ba-8927-0db0756a0412",
   "metadata": {},
   "outputs": [],
   "source": [
    "# Pre-processing function\n",
    "def normalize_text(doc):\n",
    "    \"\"\"Takes documents as input and outputs clean tokens\"\"\"\n",
    "    \n",
    "    lower      = doc.lower()                                             # all lower case\n",
    "    nopunc     = lower.translate(remove_punct)                           # remove punctuation\n",
    "    words      = nopunc.split()                                          # split into tokens\n",
    "    nostop     = [w for w in words if w not in stop_words]               # remove stopwords\n",
    "    no_numbers = [w if not w.isdigit() else '' for w in nostop]         # normalize numbers\n",
    "    stem_text  = [stemmer.stem(w) for w in no_numbers]                   # stem each word\n",
    "    \n",
    "    \n",
    "    return ' '.join(stem_text)"
   ]
  },
  {
   "cell_type": "code",
   "execution_count": 47,
   "id": "59eba566-4c36-4601-8507-182cee8b2171",
   "metadata": {},
   "outputs": [
    {
     "name": "stderr",
     "output_type": "stream",
     "text": [
      "100%|███████████████████████████████████████████████████████████████████████████████| 633/633 [00:03<00:00, 210.88it/s]\n"
     ]
    }
   ],
   "source": [
    "news_lite['preproc'] = news_lite.article.progress_apply(lambda row: normalize_text(row))"
   ]
  },
  {
   "cell_type": "code",
   "execution_count": 48,
   "id": "dfc1b36b-8ce8-489b-9ab6-105bac3e8b80",
   "metadata": {},
   "outputs": [
    {
     "data": {
      "text/plain": [
       "0    cape town reuter south african fifa presidenti candid tokyo sexwal said monday realist open negoti allianc ahead friday vote zurich sexwal whose campaign fail gain traction first candid process su...\n",
       "1    tokyo may  reuter japanes govern bond price flat tuesday regular debtbuy oper central bank help offset negat pressur retreat us treasuri twoyear yield 10year yield unchang minus  minus  respect 30...\n",
       "2                                                        moscow reuter total  russian troop taken part moscow militari campaign syria russian defenc minist sergei shoigu said friday report dmitri solovyov\n",
       "3    georgetown univers jd georgetown univers ba administr —   pm edt nation secur —   pm edt nation secur —   edt white hous —   pm edt court battl —   pm edt congress blog —   pm edt administr —   pm...\n",
       "4                             aug  reuter tecan group ag tecan acceler broad genom strategi acquisit nugen technolog close transact expect within come week sourc text eikon compani coverag gdynia newsroom\n",
       "Name: preproc, dtype: object"
      ]
     },
     "execution_count": 48,
     "metadata": {},
     "output_type": "execute_result"
    }
   ],
   "source": [
    "news_lite.preproc.head()"
   ]
  },
  {
   "cell_type": "markdown",
   "id": "566af951-eae5-4647-825a-4e6f83f8fb2a",
   "metadata": {},
   "source": [
    "<br>\n",
    "While the matrix can be built manually, scikit-learn is well-known for having off-the-shelve features for most day-to-day Machine Learning applications. In this instance, we will use <code>CountVectorizer</code>, which creates a matrix of count frequencies from a corpus of data. "
   ]
  },
  {
   "cell_type": "code",
   "execution_count": 49,
   "id": "75e8d9ae-cda7-4820-9798-fe7a03240c5c",
   "metadata": {},
   "outputs": [
    {
     "data": {
      "text/html": [
       "<div>\n",
       "<style scoped>\n",
       "    .dataframe tbody tr th:only-of-type {\n",
       "        vertical-align: middle;\n",
       "    }\n",
       "\n",
       "    .dataframe tbody tr th {\n",
       "        vertical-align: top;\n",
       "    }\n",
       "\n",
       "    .dataframe thead th {\n",
       "        text-align: right;\n",
       "    }\n",
       "</style>\n",
       "<table border=\"1\" class=\"dataframe\">\n",
       "  <thead>\n",
       "    <tr style=\"text-align: right;\">\n",
       "      <th></th>\n",
       "      <th>also</th>\n",
       "      <th>compani</th>\n",
       "      <th>could</th>\n",
       "      <th>get</th>\n",
       "      <th>go</th>\n",
       "      <th>like</th>\n",
       "      <th>new</th>\n",
       "      <th>one</th>\n",
       "      <th>peopl</th>\n",
       "      <th>percent</th>\n",
       "      <th>presid</th>\n",
       "      <th>report</th>\n",
       "      <th>said</th>\n",
       "      <th>say</th>\n",
       "      <th>state</th>\n",
       "      <th>time</th>\n",
       "      <th>trump</th>\n",
       "      <th>us</th>\n",
       "      <th>would</th>\n",
       "      <th>year</th>\n",
       "    </tr>\n",
       "  </thead>\n",
       "  <tbody>\n",
       "    <tr>\n",
       "      <th>0</th>\n",
       "      <td>0</td>\n",
       "      <td>0</td>\n",
       "      <td>1</td>\n",
       "      <td>0</td>\n",
       "      <td>0</td>\n",
       "      <td>0</td>\n",
       "      <td>0</td>\n",
       "      <td>0</td>\n",
       "      <td>0</td>\n",
       "      <td>0</td>\n",
       "      <td>2</td>\n",
       "      <td>0</td>\n",
       "      <td>1</td>\n",
       "      <td>0</td>\n",
       "      <td>1</td>\n",
       "      <td>0</td>\n",
       "      <td>0</td>\n",
       "      <td>0</td>\n",
       "      <td>0</td>\n",
       "      <td>1</td>\n",
       "    </tr>\n",
       "    <tr>\n",
       "      <th>1</th>\n",
       "      <td>1</td>\n",
       "      <td>0</td>\n",
       "      <td>0</td>\n",
       "      <td>0</td>\n",
       "      <td>0</td>\n",
       "      <td>0</td>\n",
       "      <td>0</td>\n",
       "      <td>1</td>\n",
       "      <td>0</td>\n",
       "      <td>0</td>\n",
       "      <td>0</td>\n",
       "      <td>1</td>\n",
       "      <td>0</td>\n",
       "      <td>0</td>\n",
       "      <td>0</td>\n",
       "      <td>0</td>\n",
       "      <td>0</td>\n",
       "      <td>2</td>\n",
       "      <td>0</td>\n",
       "      <td>0</td>\n",
       "    </tr>\n",
       "    <tr>\n",
       "      <th>2</th>\n",
       "      <td>0</td>\n",
       "      <td>0</td>\n",
       "      <td>0</td>\n",
       "      <td>0</td>\n",
       "      <td>0</td>\n",
       "      <td>0</td>\n",
       "      <td>0</td>\n",
       "      <td>0</td>\n",
       "      <td>0</td>\n",
       "      <td>0</td>\n",
       "      <td>0</td>\n",
       "      <td>1</td>\n",
       "      <td>1</td>\n",
       "      <td>0</td>\n",
       "      <td>0</td>\n",
       "      <td>0</td>\n",
       "      <td>0</td>\n",
       "      <td>0</td>\n",
       "      <td>0</td>\n",
       "      <td>0</td>\n",
       "    </tr>\n",
       "    <tr>\n",
       "      <th>3</th>\n",
       "      <td>0</td>\n",
       "      <td>0</td>\n",
       "      <td>0</td>\n",
       "      <td>0</td>\n",
       "      <td>0</td>\n",
       "      <td>0</td>\n",
       "      <td>0</td>\n",
       "      <td>0</td>\n",
       "      <td>0</td>\n",
       "      <td>0</td>\n",
       "      <td>0</td>\n",
       "      <td>0</td>\n",
       "      <td>0</td>\n",
       "      <td>0</td>\n",
       "      <td>0</td>\n",
       "      <td>0</td>\n",
       "      <td>0</td>\n",
       "      <td>0</td>\n",
       "      <td>0</td>\n",
       "      <td>0</td>\n",
       "    </tr>\n",
       "    <tr>\n",
       "      <th>4</th>\n",
       "      <td>0</td>\n",
       "      <td>1</td>\n",
       "      <td>0</td>\n",
       "      <td>0</td>\n",
       "      <td>0</td>\n",
       "      <td>0</td>\n",
       "      <td>0</td>\n",
       "      <td>0</td>\n",
       "      <td>0</td>\n",
       "      <td>0</td>\n",
       "      <td>0</td>\n",
       "      <td>0</td>\n",
       "      <td>0</td>\n",
       "      <td>0</td>\n",
       "      <td>0</td>\n",
       "      <td>0</td>\n",
       "      <td>0</td>\n",
       "      <td>0</td>\n",
       "      <td>0</td>\n",
       "      <td>0</td>\n",
       "    </tr>\n",
       "    <tr>\n",
       "      <th>...</th>\n",
       "      <td>...</td>\n",
       "      <td>...</td>\n",
       "      <td>...</td>\n",
       "      <td>...</td>\n",
       "      <td>...</td>\n",
       "      <td>...</td>\n",
       "      <td>...</td>\n",
       "      <td>...</td>\n",
       "      <td>...</td>\n",
       "      <td>...</td>\n",
       "      <td>...</td>\n",
       "      <td>...</td>\n",
       "      <td>...</td>\n",
       "      <td>...</td>\n",
       "      <td>...</td>\n",
       "      <td>...</td>\n",
       "      <td>...</td>\n",
       "      <td>...</td>\n",
       "      <td>...</td>\n",
       "      <td>...</td>\n",
       "    </tr>\n",
       "    <tr>\n",
       "      <th>628</th>\n",
       "      <td>0</td>\n",
       "      <td>0</td>\n",
       "      <td>0</td>\n",
       "      <td>0</td>\n",
       "      <td>0</td>\n",
       "      <td>0</td>\n",
       "      <td>0</td>\n",
       "      <td>0</td>\n",
       "      <td>0</td>\n",
       "      <td>0</td>\n",
       "      <td>0</td>\n",
       "      <td>0</td>\n",
       "      <td>0</td>\n",
       "      <td>0</td>\n",
       "      <td>1</td>\n",
       "      <td>1</td>\n",
       "      <td>0</td>\n",
       "      <td>2</td>\n",
       "      <td>0</td>\n",
       "      <td>1</td>\n",
       "    </tr>\n",
       "    <tr>\n",
       "      <th>629</th>\n",
       "      <td>1</td>\n",
       "      <td>0</td>\n",
       "      <td>0</td>\n",
       "      <td>0</td>\n",
       "      <td>0</td>\n",
       "      <td>0</td>\n",
       "      <td>2</td>\n",
       "      <td>0</td>\n",
       "      <td>1</td>\n",
       "      <td>16</td>\n",
       "      <td>0</td>\n",
       "      <td>2</td>\n",
       "      <td>1</td>\n",
       "      <td>0</td>\n",
       "      <td>1</td>\n",
       "      <td>2</td>\n",
       "      <td>0</td>\n",
       "      <td>7</td>\n",
       "      <td>0</td>\n",
       "      <td>2</td>\n",
       "    </tr>\n",
       "    <tr>\n",
       "      <th>630</th>\n",
       "      <td>1</td>\n",
       "      <td>4</td>\n",
       "      <td>1</td>\n",
       "      <td>0</td>\n",
       "      <td>1</td>\n",
       "      <td>0</td>\n",
       "      <td>1</td>\n",
       "      <td>0</td>\n",
       "      <td>0</td>\n",
       "      <td>0</td>\n",
       "      <td>0</td>\n",
       "      <td>1</td>\n",
       "      <td>3</td>\n",
       "      <td>0</td>\n",
       "      <td>0</td>\n",
       "      <td>0</td>\n",
       "      <td>0</td>\n",
       "      <td>3</td>\n",
       "      <td>0</td>\n",
       "      <td>3</td>\n",
       "    </tr>\n",
       "    <tr>\n",
       "      <th>631</th>\n",
       "      <td>0</td>\n",
       "      <td>0</td>\n",
       "      <td>1</td>\n",
       "      <td>0</td>\n",
       "      <td>0</td>\n",
       "      <td>0</td>\n",
       "      <td>1</td>\n",
       "      <td>0</td>\n",
       "      <td>0</td>\n",
       "      <td>0</td>\n",
       "      <td>0</td>\n",
       "      <td>0</td>\n",
       "      <td>1</td>\n",
       "      <td>0</td>\n",
       "      <td>0</td>\n",
       "      <td>1</td>\n",
       "      <td>0</td>\n",
       "      <td>0</td>\n",
       "      <td>0</td>\n",
       "      <td>2</td>\n",
       "    </tr>\n",
       "    <tr>\n",
       "      <th>632</th>\n",
       "      <td>0</td>\n",
       "      <td>0</td>\n",
       "      <td>0</td>\n",
       "      <td>0</td>\n",
       "      <td>0</td>\n",
       "      <td>0</td>\n",
       "      <td>0</td>\n",
       "      <td>0</td>\n",
       "      <td>0</td>\n",
       "      <td>0</td>\n",
       "      <td>1</td>\n",
       "      <td>2</td>\n",
       "      <td>0</td>\n",
       "      <td>0</td>\n",
       "      <td>1</td>\n",
       "      <td>0</td>\n",
       "      <td>0</td>\n",
       "      <td>1</td>\n",
       "      <td>0</td>\n",
       "      <td>0</td>\n",
       "    </tr>\n",
       "  </tbody>\n",
       "</table>\n",
       "<p>633 rows × 20 columns</p>\n",
       "</div>"
      ],
      "text/plain": [
       "     also  compani  could  get  go  like  new  one  peopl  percent  presid  \\\n",
       "0       0        0      1    0   0     0    0    0      0        0       2   \n",
       "1       1        0      0    0   0     0    0    1      0        0       0   \n",
       "2       0        0      0    0   0     0    0    0      0        0       0   \n",
       "3       0        0      0    0   0     0    0    0      0        0       0   \n",
       "4       0        1      0    0   0     0    0    0      0        0       0   \n",
       "..    ...      ...    ...  ...  ..   ...  ...  ...    ...      ...     ...   \n",
       "628     0        0      0    0   0     0    0    0      0        0       0   \n",
       "629     1        0      0    0   0     0    2    0      1       16       0   \n",
       "630     1        4      1    0   1     0    1    0      0        0       0   \n",
       "631     0        0      1    0   0     0    1    0      0        0       0   \n",
       "632     0        0      0    0   0     0    0    0      0        0       1   \n",
       "\n",
       "     report  said  say  state  time  trump  us  would  year  \n",
       "0         0     1    0      1     0      0   0      0     1  \n",
       "1         1     0    0      0     0      0   2      0     0  \n",
       "2         1     1    0      0     0      0   0      0     0  \n",
       "3         0     0    0      0     0      0   0      0     0  \n",
       "4         0     0    0      0     0      0   0      0     0  \n",
       "..      ...   ...  ...    ...   ...    ...  ..    ...   ...  \n",
       "628       0     0    0      1     1      0   2      0     1  \n",
       "629       2     1    0      1     2      0   7      0     2  \n",
       "630       1     3    0      0     0      0   3      0     3  \n",
       "631       0     1    0      0     1      0   0      0     2  \n",
       "632       2     0    0      1     0      0   1      0     0  \n",
       "\n",
       "[633 rows x 20 columns]"
      ]
     },
     "execution_count": 49,
     "metadata": {},
     "output_type": "execute_result"
    }
   ],
   "source": [
    "from sklearn.feature_extraction.text import CountVectorizer\n",
    "\n",
    "vec = CountVectorizer(max_features=20)\n",
    "\n",
    "X = vec.fit_transform(news_lite['preproc']).todense()\n",
    "words = vec.get_feature_names()\n",
    "x_df = pd.DataFrame(X)\n",
    "x_df.columns = words\n",
    "x_df"
   ]
  },
  {
   "cell_type": "markdown",
   "id": "07ac0575-fe0b-46c1-8ca8-f885eb21ef69",
   "metadata": {},
   "source": [
    "<br>Note that some applications go beyond the use of unigrams to perform text analysis. CountVectorizer can easily adapt counts for terms that may either be unigrams (one word) or several words (bigrams, trigrams)."
   ]
  },
  {
   "cell_type": "code",
   "execution_count": 55,
   "id": "9a442af8-f5f7-48d2-a660-beb38fca6600",
   "metadata": {},
   "outputs": [],
   "source": [
    "vec = CountVectorizer(\n",
    "    min_df=1e-2,\n",
    "    max_df=.8,  \n",
    "    max_features=500,\n",
    "    ngram_range=(1,3)\n",
    ")\n",
    "\n",
    "X = vec.fit_transform(news_lite['preproc']).todense()\n",
    "words = vec.get_feature_names()\n",
    "x_df = pd.DataFrame(X)\n",
    "x_df.columns = words"
   ]
  },
  {
   "cell_type": "raw",
   "id": "8ed30e95-eec7-4b48-8872-9991e8872fe5",
   "metadata": {},
   "source": [
    "print(x_df.columns.values)"
   ]
  },
  {
   "cell_type": "markdown",
   "id": "b5b87b92-d552-45f1-a1ca-6ab1e50673a3",
   "metadata": {},
   "source": [
    "<br> A direct improvement over a matrix of counts is to weight them according to their inverse document frequency. The reasoning behind it is that words that are significative for most applications are those that appear rarely in documents (**idf**) but that are very frequent in the documents in which they do appear (**tf**). We can use scikit-learn's [TfIdfVectorizer](https://scikit-learn.org/stable/modules/generated/sklearn.feature_extraction.text.TfidfVectorizer.html) for the task at hand."
   ]
  },
  {
   "cell_type": "code",
   "execution_count": 50,
   "id": "29c46c6d-4088-4053-89e0-fa2b08fd9137",
   "metadata": {
    "tags": []
   },
   "outputs": [
    {
     "data": {
      "text/html": [
       "<div>\n",
       "<style scoped>\n",
       "    .dataframe tbody tr th:only-of-type {\n",
       "        vertical-align: middle;\n",
       "    }\n",
       "\n",
       "    .dataframe tbody tr th {\n",
       "        vertical-align: top;\n",
       "    }\n",
       "\n",
       "    .dataframe thead th {\n",
       "        text-align: right;\n",
       "    }\n",
       "</style>\n",
       "<table border=\"1\" class=\"dataframe\">\n",
       "  <thead>\n",
       "    <tr style=\"text-align: right;\">\n",
       "      <th></th>\n",
       "      <th>2019</th>\n",
       "      <th>2019 capitol</th>\n",
       "      <th>2019 capitol hill</th>\n",
       "      <th>abl</th>\n",
       "      <th>accept</th>\n",
       "      <th>access</th>\n",
       "      <th>accord</th>\n",
       "      <th>account</th>\n",
       "      <th>accus</th>\n",
       "      <th>across</th>\n",
       "      <th>...</th>\n",
       "      <th>year</th>\n",
       "      <th>year ago</th>\n",
       "      <th>yen</th>\n",
       "      <th>yet</th>\n",
       "      <th>yield</th>\n",
       "      <th>york</th>\n",
       "      <th>york time</th>\n",
       "      <th>young</th>\n",
       "      <th>your</th>\n",
       "      <th>yuan</th>\n",
       "    </tr>\n",
       "  </thead>\n",
       "  <tbody>\n",
       "    <tr>\n",
       "      <th>0</th>\n",
       "      <td>0.000000</td>\n",
       "      <td>0.000000</td>\n",
       "      <td>0.000000</td>\n",
       "      <td>0.0</td>\n",
       "      <td>0.000000</td>\n",
       "      <td>0.000000</td>\n",
       "      <td>0.000000</td>\n",
       "      <td>0.0</td>\n",
       "      <td>0.0</td>\n",
       "      <td>0.000000</td>\n",
       "      <td>...</td>\n",
       "      <td>0.076753</td>\n",
       "      <td>0.0</td>\n",
       "      <td>0.000000</td>\n",
       "      <td>0.000000</td>\n",
       "      <td>0.000000</td>\n",
       "      <td>0.000000</td>\n",
       "      <td>0.0</td>\n",
       "      <td>0.0</td>\n",
       "      <td>0.0</td>\n",
       "      <td>0.0</td>\n",
       "    </tr>\n",
       "    <tr>\n",
       "      <th>1</th>\n",
       "      <td>0.000000</td>\n",
       "      <td>0.000000</td>\n",
       "      <td>0.000000</td>\n",
       "      <td>0.0</td>\n",
       "      <td>0.000000</td>\n",
       "      <td>0.000000</td>\n",
       "      <td>0.000000</td>\n",
       "      <td>0.0</td>\n",
       "      <td>0.0</td>\n",
       "      <td>0.000000</td>\n",
       "      <td>...</td>\n",
       "      <td>0.000000</td>\n",
       "      <td>0.0</td>\n",
       "      <td>0.310528</td>\n",
       "      <td>0.000000</td>\n",
       "      <td>0.556124</td>\n",
       "      <td>0.000000</td>\n",
       "      <td>0.0</td>\n",
       "      <td>0.0</td>\n",
       "      <td>0.0</td>\n",
       "      <td>0.0</td>\n",
       "    </tr>\n",
       "    <tr>\n",
       "      <th>2</th>\n",
       "      <td>0.000000</td>\n",
       "      <td>0.000000</td>\n",
       "      <td>0.000000</td>\n",
       "      <td>0.0</td>\n",
       "      <td>0.000000</td>\n",
       "      <td>0.000000</td>\n",
       "      <td>0.000000</td>\n",
       "      <td>0.0</td>\n",
       "      <td>0.0</td>\n",
       "      <td>0.000000</td>\n",
       "      <td>...</td>\n",
       "      <td>0.000000</td>\n",
       "      <td>0.0</td>\n",
       "      <td>0.000000</td>\n",
       "      <td>0.000000</td>\n",
       "      <td>0.000000</td>\n",
       "      <td>0.000000</td>\n",
       "      <td>0.0</td>\n",
       "      <td>0.0</td>\n",
       "      <td>0.0</td>\n",
       "      <td>0.0</td>\n",
       "    </tr>\n",
       "    <tr>\n",
       "      <th>3</th>\n",
       "      <td>0.062783</td>\n",
       "      <td>0.062783</td>\n",
       "      <td>0.062783</td>\n",
       "      <td>0.0</td>\n",
       "      <td>0.000000</td>\n",
       "      <td>0.000000</td>\n",
       "      <td>0.000000</td>\n",
       "      <td>0.0</td>\n",
       "      <td>0.0</td>\n",
       "      <td>0.000000</td>\n",
       "      <td>...</td>\n",
       "      <td>0.000000</td>\n",
       "      <td>0.0</td>\n",
       "      <td>0.000000</td>\n",
       "      <td>0.000000</td>\n",
       "      <td>0.000000</td>\n",
       "      <td>0.000000</td>\n",
       "      <td>0.0</td>\n",
       "      <td>0.0</td>\n",
       "      <td>0.0</td>\n",
       "      <td>0.0</td>\n",
       "    </tr>\n",
       "    <tr>\n",
       "      <th>4</th>\n",
       "      <td>0.000000</td>\n",
       "      <td>0.000000</td>\n",
       "      <td>0.000000</td>\n",
       "      <td>0.0</td>\n",
       "      <td>0.000000</td>\n",
       "      <td>0.000000</td>\n",
       "      <td>0.000000</td>\n",
       "      <td>0.0</td>\n",
       "      <td>0.0</td>\n",
       "      <td>0.000000</td>\n",
       "      <td>...</td>\n",
       "      <td>0.000000</td>\n",
       "      <td>0.0</td>\n",
       "      <td>0.000000</td>\n",
       "      <td>0.000000</td>\n",
       "      <td>0.000000</td>\n",
       "      <td>0.000000</td>\n",
       "      <td>0.0</td>\n",
       "      <td>0.0</td>\n",
       "      <td>0.0</td>\n",
       "      <td>0.0</td>\n",
       "    </tr>\n",
       "    <tr>\n",
       "      <th>...</th>\n",
       "      <td>...</td>\n",
       "      <td>...</td>\n",
       "      <td>...</td>\n",
       "      <td>...</td>\n",
       "      <td>...</td>\n",
       "      <td>...</td>\n",
       "      <td>...</td>\n",
       "      <td>...</td>\n",
       "      <td>...</td>\n",
       "      <td>...</td>\n",
       "      <td>...</td>\n",
       "      <td>...</td>\n",
       "      <td>...</td>\n",
       "      <td>...</td>\n",
       "      <td>...</td>\n",
       "      <td>...</td>\n",
       "      <td>...</td>\n",
       "      <td>...</td>\n",
       "      <td>...</td>\n",
       "      <td>...</td>\n",
       "      <td>...</td>\n",
       "    </tr>\n",
       "    <tr>\n",
       "      <th>628</th>\n",
       "      <td>0.000000</td>\n",
       "      <td>0.000000</td>\n",
       "      <td>0.000000</td>\n",
       "      <td>0.0</td>\n",
       "      <td>0.000000</td>\n",
       "      <td>0.000000</td>\n",
       "      <td>0.000000</td>\n",
       "      <td>0.0</td>\n",
       "      <td>0.0</td>\n",
       "      <td>0.000000</td>\n",
       "      <td>...</td>\n",
       "      <td>0.073952</td>\n",
       "      <td>0.0</td>\n",
       "      <td>0.000000</td>\n",
       "      <td>0.000000</td>\n",
       "      <td>0.000000</td>\n",
       "      <td>0.000000</td>\n",
       "      <td>0.0</td>\n",
       "      <td>0.0</td>\n",
       "      <td>0.0</td>\n",
       "      <td>0.0</td>\n",
       "    </tr>\n",
       "    <tr>\n",
       "      <th>629</th>\n",
       "      <td>0.000000</td>\n",
       "      <td>0.000000</td>\n",
       "      <td>0.000000</td>\n",
       "      <td>0.0</td>\n",
       "      <td>0.000000</td>\n",
       "      <td>0.000000</td>\n",
       "      <td>0.000000</td>\n",
       "      <td>0.0</td>\n",
       "      <td>0.0</td>\n",
       "      <td>0.033637</td>\n",
       "      <td>...</td>\n",
       "      <td>0.037662</td>\n",
       "      <td>0.0</td>\n",
       "      <td>0.310669</td>\n",
       "      <td>0.034159</td>\n",
       "      <td>0.139094</td>\n",
       "      <td>0.032314</td>\n",
       "      <td>0.0</td>\n",
       "      <td>0.0</td>\n",
       "      <td>0.0</td>\n",
       "      <td>0.0</td>\n",
       "    </tr>\n",
       "    <tr>\n",
       "      <th>630</th>\n",
       "      <td>0.000000</td>\n",
       "      <td>0.000000</td>\n",
       "      <td>0.000000</td>\n",
       "      <td>0.0</td>\n",
       "      <td>0.070521</td>\n",
       "      <td>0.000000</td>\n",
       "      <td>0.045193</td>\n",
       "      <td>0.0</td>\n",
       "      <td>0.0</td>\n",
       "      <td>0.111801</td>\n",
       "      <td>...</td>\n",
       "      <td>0.093886</td>\n",
       "      <td>0.0</td>\n",
       "      <td>0.000000</td>\n",
       "      <td>0.000000</td>\n",
       "      <td>0.000000</td>\n",
       "      <td>0.053702</td>\n",
       "      <td>0.0</td>\n",
       "      <td>0.0</td>\n",
       "      <td>0.0</td>\n",
       "      <td>0.0</td>\n",
       "    </tr>\n",
       "    <tr>\n",
       "      <th>631</th>\n",
       "      <td>0.000000</td>\n",
       "      <td>0.000000</td>\n",
       "      <td>0.000000</td>\n",
       "      <td>0.0</td>\n",
       "      <td>0.000000</td>\n",
       "      <td>0.108395</td>\n",
       "      <td>0.000000</td>\n",
       "      <td>0.0</td>\n",
       "      <td>0.0</td>\n",
       "      <td>0.000000</td>\n",
       "      <td>...</td>\n",
       "      <td>0.106045</td>\n",
       "      <td>0.0</td>\n",
       "      <td>0.000000</td>\n",
       "      <td>0.000000</td>\n",
       "      <td>0.000000</td>\n",
       "      <td>0.000000</td>\n",
       "      <td>0.0</td>\n",
       "      <td>0.0</td>\n",
       "      <td>0.0</td>\n",
       "      <td>0.0</td>\n",
       "    </tr>\n",
       "    <tr>\n",
       "      <th>632</th>\n",
       "      <td>0.000000</td>\n",
       "      <td>0.000000</td>\n",
       "      <td>0.000000</td>\n",
       "      <td>0.0</td>\n",
       "      <td>0.000000</td>\n",
       "      <td>0.000000</td>\n",
       "      <td>0.000000</td>\n",
       "      <td>0.0</td>\n",
       "      <td>0.0</td>\n",
       "      <td>0.000000</td>\n",
       "      <td>...</td>\n",
       "      <td>0.000000</td>\n",
       "      <td>0.0</td>\n",
       "      <td>0.000000</td>\n",
       "      <td>0.000000</td>\n",
       "      <td>0.000000</td>\n",
       "      <td>0.000000</td>\n",
       "      <td>0.0</td>\n",
       "      <td>0.0</td>\n",
       "      <td>0.0</td>\n",
       "      <td>0.0</td>\n",
       "    </tr>\n",
       "  </tbody>\n",
       "</table>\n",
       "<p>633 rows × 1000 columns</p>\n",
       "</div>"
      ],
      "text/plain": [
       "         2019  2019 capitol  2019 capitol hill  abl    accept    access  \\\n",
       "0    0.000000      0.000000           0.000000  0.0  0.000000  0.000000   \n",
       "1    0.000000      0.000000           0.000000  0.0  0.000000  0.000000   \n",
       "2    0.000000      0.000000           0.000000  0.0  0.000000  0.000000   \n",
       "3    0.062783      0.062783           0.062783  0.0  0.000000  0.000000   \n",
       "4    0.000000      0.000000           0.000000  0.0  0.000000  0.000000   \n",
       "..        ...           ...                ...  ...       ...       ...   \n",
       "628  0.000000      0.000000           0.000000  0.0  0.000000  0.000000   \n",
       "629  0.000000      0.000000           0.000000  0.0  0.000000  0.000000   \n",
       "630  0.000000      0.000000           0.000000  0.0  0.070521  0.000000   \n",
       "631  0.000000      0.000000           0.000000  0.0  0.000000  0.108395   \n",
       "632  0.000000      0.000000           0.000000  0.0  0.000000  0.000000   \n",
       "\n",
       "       accord  account  accus    across  ...      year  year ago       yen  \\\n",
       "0    0.000000      0.0    0.0  0.000000  ...  0.076753       0.0  0.000000   \n",
       "1    0.000000      0.0    0.0  0.000000  ...  0.000000       0.0  0.310528   \n",
       "2    0.000000      0.0    0.0  0.000000  ...  0.000000       0.0  0.000000   \n",
       "3    0.000000      0.0    0.0  0.000000  ...  0.000000       0.0  0.000000   \n",
       "4    0.000000      0.0    0.0  0.000000  ...  0.000000       0.0  0.000000   \n",
       "..        ...      ...    ...       ...  ...       ...       ...       ...   \n",
       "628  0.000000      0.0    0.0  0.000000  ...  0.073952       0.0  0.000000   \n",
       "629  0.000000      0.0    0.0  0.033637  ...  0.037662       0.0  0.310669   \n",
       "630  0.045193      0.0    0.0  0.111801  ...  0.093886       0.0  0.000000   \n",
       "631  0.000000      0.0    0.0  0.000000  ...  0.106045       0.0  0.000000   \n",
       "632  0.000000      0.0    0.0  0.000000  ...  0.000000       0.0  0.000000   \n",
       "\n",
       "          yet     yield      york  york time  young  your  yuan  \n",
       "0    0.000000  0.000000  0.000000        0.0    0.0   0.0   0.0  \n",
       "1    0.000000  0.556124  0.000000        0.0    0.0   0.0   0.0  \n",
       "2    0.000000  0.000000  0.000000        0.0    0.0   0.0   0.0  \n",
       "3    0.000000  0.000000  0.000000        0.0    0.0   0.0   0.0  \n",
       "4    0.000000  0.000000  0.000000        0.0    0.0   0.0   0.0  \n",
       "..        ...       ...       ...        ...    ...   ...   ...  \n",
       "628  0.000000  0.000000  0.000000        0.0    0.0   0.0   0.0  \n",
       "629  0.034159  0.139094  0.032314        0.0    0.0   0.0   0.0  \n",
       "630  0.000000  0.000000  0.053702        0.0    0.0   0.0   0.0  \n",
       "631  0.000000  0.000000  0.000000        0.0    0.0   0.0   0.0  \n",
       "632  0.000000  0.000000  0.000000        0.0    0.0   0.0   0.0  \n",
       "\n",
       "[633 rows x 1000 columns]"
      ]
     },
     "execution_count": 50,
     "metadata": {},
     "output_type": "execute_result"
    }
   ],
   "source": [
    "from sklearn.feature_extraction.text import TfidfVectorizer\n",
    "\n",
    "vec = TfidfVectorizer(\n",
    "    min_df=1e-2,\n",
    "    max_df=.8,  \n",
    "    max_features=1000,\n",
    "    ngram_range=(1,3)\n",
    ")\n",
    "\n",
    "X = vec.fit_transform(news_lite['preproc'])\n",
    "X_mat = X.todense()\n",
    "words = vec.get_feature_names()\n",
    "x_df = pd.DataFrame(X_mat)\n",
    "x_df.columns = words\n",
    "x_df"
   ]
  },
  {
   "cell_type": "code",
   "execution_count": 60,
   "id": "15083909-2e72-412a-a2c8-6d0e5095409c",
   "metadata": {},
   "outputs": [
    {
     "data": {
      "text/plain": [
       "avail            0.131122\n",
       "low              0.131122\n",
       "local            0.131122\n",
       "effect           0.131122\n",
       "washington dc    0.131122\n",
       "regul            0.132701\n",
       "travel           0.132701\n",
       "capitol hill     0.132701\n",
       "minist           0.134281\n",
       "men              0.134281\n",
       "ban              0.134281\n",
       "kind             0.134281\n",
       "speech           0.134281\n",
       "seri             0.135861\n",
       "googl            0.135861\n",
       "iran             0.135861\n",
       "appear           0.135861\n",
       "due              0.135861\n",
       "cant             0.137441\n",
       "revenu           0.137441\n",
       "dtype: float64"
      ]
     },
     "execution_count": 60,
     "metadata": {},
     "output_type": "execute_result"
    }
   ],
   "source": [
    "x_df.mean().sort_values(ascending=True)[:20]"
   ]
  },
  {
   "cell_type": "markdown",
   "id": "11c67906-1df0-4008-bb23-301a09e75db2",
   "metadata": {},
   "source": [
    "### BoW applications"
   ]
  },
  {
   "cell_type": "markdown",
   "id": "36d2515d-3a2b-488d-9278-7971961ab7ab",
   "metadata": {},
   "source": [
    "#### Search engine"
   ]
  },
  {
   "cell_type": "code",
   "execution_count": 62,
   "id": "498d1da3-427f-4b7e-bc21-a61eef756bce",
   "metadata": {},
   "outputs": [],
   "source": [
    "from sklearn.metrics.pairwise import cosine_similarity\n",
    "\n",
    "def search_engine(tfidf, _text, top_return=1):\n",
    "    '''\n",
    "    Returns closest match/es in news repository.\n",
    "    '''\n",
    "    text_ = tfidf.transform([normalize_text(_text)])\n",
    "    cos_sim = cosine_similarity(text_, X).flatten()\n",
    "    top_ = np.argsort(cos_sim)[::-1][:top_return]\n",
    "    response = news_lite.iloc[top_]\n",
    "    \n",
    "    return response, top_"
   ]
  },
  {
   "cell_type": "code",
   "execution_count": 65,
   "id": "35a08315-ca81-4fba-8104-9fdfb3c6bd72",
   "metadata": {},
   "outputs": [
    {
     "name": "stdout",
     "output_type": "stream",
     "text": [
      "632    WASHINGTON, Jan 23 (Reuters) - The U.S. government warned Venezuelan President Nicolas Maduro on Wednesday that it is ready to ramp up oil, gold and other economic sanctions and take other unspeci...\n",
      "207    DUBAI, Sept 9 (Reuters) - Saudi Arabia’s Crown Prince Mohammed bin Salman received a phone call on Friday from Qatar’s Emir Sheikh Tamim bin Hamad al-Thani, state media from both countries reporte...\n",
      "214    BRASILIA, Dec 20 (Reuters) - Brazil’s third-biggest airline, Azul Linhas Aéreas, signed an agreement on Wednesday to create a private integrated logistics company to transport cargo in a joint ve...\n",
      "213    BUSINESS An article on Saturday about the potential risks and benefits of purchasing a franchise misstated a service that Jeff Rahn provides through his franchises in the Minneapolis area. It is p...\n",
      "212    The backdrop to President Donald Trump’s recent visit to India was eerily disquieting and strikingly dissonant — presidential pleasantries exchanged in almost a Shakespearean contrast to the relig...\n",
      "211     We're living in unprecedented times -- and as the coronavirus pandemic deepens and more restrictions are put in place around the world, the impact on our lives can be troubling and confusing. CNN...\n",
      "210    European leaders have issued a statement of support for the Iran nuclear deal despite US President Donald Trump calling for them to walk away from the \"foolish\" arrangement.The leaders of the UK, ...\n",
      "209    DUBLIN, Feb 1 (Reuters) - Ireland’s debt office has bigger concerns than Brexit including Italy’s bond market and banking system which it is watching closely, the National Treasury Management Agen...\n",
      "208    Washington  (CNN)A federal appeals court on Wednesday granted a Trump administration request to expedite oral arguments in a case challenging the legality of the Affordable Care Act.   The new tim...\n",
      "206     (CNN)A virtual shooting death in an online video game led to the real-life shooting death of a Kansas man in December, according to court documents. Tyler Barriss, 25, was charged with involuntar...\n",
      "Name: article, dtype: object\n"
     ]
    }
   ],
   "source": [
    "articles, idx = search_engine(\n",
    "    tfidf=vec,\n",
    "    _text='court case',\n",
    "    top_return=10\n",
    ")\n",
    "\n",
    "print(articles.article)"
   ]
  },
  {
   "cell_type": "markdown",
   "id": "09cb346e-9f7d-4283-ae1e-18a7ec4c1bf0",
   "metadata": {},
   "source": [
    "#### Plagiarism\n"
   ]
  },
  {
   "cell_type": "code",
   "execution_count": 66,
   "id": "b51d796e-1d0f-40ae-891b-9e7df869d57b",
   "metadata": {},
   "outputs": [],
   "source": [
    "from sklearn.metrics.pairwise import linear_kernel\n",
    "\n",
    "def sim_detection(tfidf_mat, idx, top_return=1):\n",
    "    '''\n",
    "    Detects similar documents in corpus.\n",
    "    '''\n",
    "    text_ = linear_kernel(tfidf_mat[idx], tfidf_mat).flatten()\n",
    "    top_ = np.argsort(text_)[::-1][1:top_return+1]\n",
    "    response = news_lite.iloc[top_]\n",
    "    \n",
    "    return response, top_"
   ]
  },
  {
   "cell_type": "code",
   "execution_count": 71,
   "id": "cb6caec0-6f1d-41f2-be72-faba02816047",
   "metadata": {},
   "outputs": [
    {
     "data": {
      "text/plain": [
       "'TOKYO, May 21 (Reuters) - Japanese government bond prices were flat on Tuesday, with a regular debt-buying operation by the central bank helping offset negative pressure from a retreat by U.S. Treasuries. The two-year yield and the 10-year yield were unchanged at minus 0.160% and minus 0.050%, respectively. The 30-year yield was also flat, at 0.540%. The Bank of Japan on Tuesday offered to buy 1.23 trillion yen ($11.16 billion) of one- to 10-year JGBs as part of a regular operation. The Nikkei was little changed and unable to provide the JGB market with incentives. U.S. Treasury prices fell and their yields rose on Monday after Federal Reserve officials expressed confidence in the world’s largest economy. ($1 = 110.2200 yen) (Reporting by the Tokyo markets team; editing by Rashmi Aich)'"
      ]
     },
     "execution_count": 71,
     "metadata": {},
     "output_type": "execute_result"
    }
   ],
   "source": [
    "news_lite.article[1]"
   ]
  },
  {
   "cell_type": "code",
   "execution_count": 73,
   "id": "32bcb8a9-7ce4-4453-943b-46bcd2ef541b",
   "metadata": {},
   "outputs": [
    {
     "name": "stdout",
     "output_type": "stream",
     "text": [
      "304    Feature What the experiences of nonmonogamous couples can tell us about jealousy, love, desire and trust. Zaeli Kane and Joe Spurr.CreditCreditHolly Andres for The New York Times When Daniel and E...\n",
      "392    U.S. stocks closed sharply lower Friday ahead of a long weekend and the onslaught of earnings season, after a slew of disappointing U.S. data, a plunge in oil to below $30 a barrel, and a sell-off...\n",
      "520    YANGON, Myanmar (Reuters) - In April, Facebook founder Mark Zuckerberg told U.S. senators that the social media site was hiring dozens more Burmese speakers to review hate speech posted in Myanmar...\n",
      "365    * MSCI Asia ex-Japan +0.31%; Nikkei +0.39% * Analysts see widespread uncertainty, continued risk aversion * Brent crude wavers around $70 per barrel * Asian stock markets: https://tmsnrt.rs/2zpUAr...\n",
      "502    IN 2011 JOHN COCHRANE, a professor at the University of Chicago’s Booth School of Business, gave a presidential address on “Discount Rates” to the American Finance Association. It was published as...\n",
      "Name: article, dtype: object\n"
     ]
    }
   ],
   "source": [
    "close_matches, _ = sim_detection(\n",
    "    tfidf_mat=X,\n",
    "    idx=1,\n",
    "    top_return=5\n",
    ")\n",
    "\n",
    "print(close_matches.article)"
   ]
  },
  {
   "cell_type": "markdown",
   "id": "97a1ba52-17a6-4e99-8edf-4398f2b5b5f9",
   "metadata": {},
   "source": [
    "### Document clusters"
   ]
  },
  {
   "cell_type": "code",
   "execution_count": 37,
   "id": "88a2fa7b-b0fe-44b6-b272-dbf3106f92a2",
   "metadata": {},
   "outputs": [],
   "source": [
    "from sklearn.cluster import KMeans\n",
    "\n",
    "kmeans = KMeans(n_clusters = 5, random_state=42).fit(X)\n",
    "centers = kmeans.cluster_centers_.argsort()[:,:len(x_df.columns)-51:-1]"
   ]
  },
  {
   "cell_type": "code",
   "execution_count": 38,
   "id": "256f7c62-9b81-48f3-bd06-a1b848cec04e",
   "metadata": {},
   "outputs": [
    {
     "name": "stdout",
     "output_type": "stream",
     "text": [
      "[t-SNE] Computing 91 nearest neighbors...\n",
      "[t-SNE] Indexed 250 samples in 0.018s...\n",
      "[t-SNE] Computed neighbors for 250 samples in 0.051s...\n",
      "[t-SNE] Computed conditional probabilities for sample 250 / 250\n",
      "[t-SNE] Mean sigma: 0.116473\n",
      "[t-SNE] KL divergence after 250 iterations with early exaggeration: 85.792969\n",
      "[t-SNE] KL divergence after 1000 iterations: 0.175790\n"
     ]
    }
   ],
   "source": [
    "from sklearn.manifold import TSNE\n",
    "\n",
    "tsne_model = TSNE(\n",
    "    n_components=2,\n",
    "    verbose=1,\n",
    "    random_state=42,\n",
    "    angle=.99, \n",
    "    init='pca'\n",
    " )\n",
    "\n",
    "tsne = tsne_model.fit_transform(x_df.iloc[:,centers.flatten()].T)"
   ]
  },
  {
   "cell_type": "code",
   "execution_count": 39,
   "id": "bc4343ad-7efe-477c-95a0-576837f17075",
   "metadata": {},
   "outputs": [],
   "source": [
    "import matplotlib.colors as mcolors\n",
    "\n",
    "colors = [color for _, color in list(mcolors.CSS4_COLORS.items())[10:15]]\n",
    "\n",
    "clust= [\n",
    "    0 if i in centers[0] \n",
    "    else 1 if i in centers[1] \n",
    "    else 2 if i in centers[2] \n",
    "    else 3 if i in centers[3] \n",
    "    else 4 if i in centers[4] \n",
    "    else i \n",
    "    for i in centers.flatten()\n",
    "]\n",
    "\n",
    "colors = [colors[i] for i in clust]"
   ]
  },
  {
   "cell_type": "code",
   "execution_count": 40,
   "id": "93b9320d-4dc8-4768-8b15-a4779d1f0bf8",
   "metadata": {},
   "outputs": [
    {
     "data": {
      "image/png": "[encoded data removed]",
      "text/plain": [
       "<Figure size 864x864 with 1 Axes>"
      ]
     },
     "metadata": {
      "needs_background": "light"
     },
     "output_type": "display_data"
    }
   ],
   "source": [
    "fig = plt.figure(figsize=(12,12))\n",
    "ax = fig.add_subplot(1, 1, 1)\n",
    "\n",
    "ax.scatter(tsne[:, 0], tsne[:, 1], alpha=0.8, color=colors)\n",
    "\n",
    "for i, pos in enumerate(tsne):\n",
    "    if i % 50 < 10:\n",
    "        ax.annotate(words[centers.flatten()[i]], pos)"
   ]
  },
  {
   "cell_type": "markdown",
   "id": "c4cc2bd1-f362-486b-b383-d903aefe1fe1",
   "metadata": {},
   "source": [
    "### [Lexical diversity](https://pypi.org/project/lexical-diversity/)"
   ]
  },
  {
   "cell_type": "raw",
   "id": "75fd3d6d-9416-42fc-8d29-f3268e85b2fc",
   "metadata": {},
   "source": [
    "!pip install lexical-diversity"
   ]
  },
  {
   "cell_type": "markdown",
   "id": "5f403740-f2c2-48a2-95db-d179a073d4f6",
   "metadata": {},
   "source": [
    "It's your turn to make something out of the data above. In class you've seen measures of lexican diversity, and python has ready-to-use packages that perform just that. Take this as an opportunity to take stock on what we've seen so far, as well as familiarize yourself with python utilities."
   ]
  },
  {
   "cell_type": "code",
   "execution_count": null,
   "id": "2e611b2a-6247-4c84-8321-d6b7885fb844",
   "metadata": {},
   "outputs": [],
   "source": []
  },
  {
   "cell_type": "markdown",
   "id": "b1b728ca-bdc4-4f23-999b-22061977f923",
   "metadata": {},
   "source": [
    "### [Readability metrics](https://pypi.org/project/py-readability-metrics/)"
   ]
  },
  {
   "cell_type": "raw",
   "id": "9de8f430-89dd-408a-8792-1179aec6c379",
   "metadata": {},
   "source": [
    "!pip install py-readability-metrics"
   ]
  },
  {
   "cell_type": "raw",
   "id": "d544cf71-56a3-4873-b096-0df4b0b966bf",
   "metadata": {},
   "source": [
    "from readability import Readability\n",
    "\n",
    "r = Readability(text)\n",
    "print(r.flesch_kincaid().score)"
   ]
  },
  {
   "cell_type": "code",
   "execution_count": null,
   "id": "f7796058-9484-42f2-9851-67947c7886e7",
   "metadata": {},
   "outputs": [],
   "source": []
  }
 ],
 "metadata": {
  "kernelspec": {
   "display_name": "Python 3",
   "language": "python",
   "name": "python3"
  },
  "language_info": {
   "codemirror_mode": {
    "name": "ipython",
    "version": 3
   },
   "file_extension": ".py",
   "mimetype": "text/x-python",
   "name": "python",
   "nbconvert_exporter": "python",
   "pygments_lexer": "ipython3",
   "version": "3.8.8"
  }
 },
 "nbformat": 4,
 "nbformat_minor": 5
}
